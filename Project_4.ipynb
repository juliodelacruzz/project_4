{
 "cells": [
  {
   "cell_type": "code",
   "execution_count": 0,
   "metadata": {
    "application/vnd.databricks.v1+cell": {
     "cellMetadata": {
      "byteLimit": 2048000,
      "rowLimit": 10000
     },
     "inputWidgets": {},
     "nuid": "92977c75-7d9f-4bca-b13e-bdf2ac1acc80",
     "showTitle": false,
     "title": ""
    }
   },
   "outputs": [
    {
     "output_type": "display_data",
     "data": {
      "text/html": [
       "<style scoped>\n",
       "  .table-result-container {\n",
       "    max-height: 300px;\n",
       "    overflow: auto;\n",
       "  }\n",
       "  table, th, td {\n",
       "    border: 1px solid black;\n",
       "    border-collapse: collapse;\n",
       "  }\n",
       "  th, td {\n",
       "    padding: 5px;\n",
       "  }\n",
       "  th {\n",
       "    text-align: left;\n",
       "  }\n",
       "</style><div class='table-result-container'><table class='table-result'><thead style='background-color: white'><tr><th>path</th><th>name</th><th>size</th><th>modificationTime</th></tr></thead><tbody><tr><td>dbfs:/FileStore/tables/CT_fires_2015.csv</td><td>CT_fires_2015.csv</td><td>23357531</td><td>1714442141000</td></tr><tr><td>dbfs:/FileStore/tables/CT_fires_2015Copy.csv</td><td>CT_fires_2015Copy.csv</td><td>23357531</td><td>1714442141000</td></tr><tr><td>dbfs:/FileStore/tables/employee_churn_data.csv</td><td>employee_churn_data.csv</td><td>804108</td><td>1714708580000</td></tr><tr><td>dbfs:/FileStore/tables/food_prices.parquet</td><td>food_prices.parquet</td><td>1394</td><td>1714442141000</td></tr><tr><td>dbfs:/FileStore/tables/northwind.zip</td><td>northwind.zip</td><td>52567</td><td>1714450770000</td></tr><tr><td>dbfs:/FileStore/tables/species.csv</td><td>species.csv</td><td>1605</td><td>1714448680000</td></tr><tr><td>dbfs:/FileStore/tables/surveys.csv</td><td>surveys.csv</td><td>1021588</td><td>1714448680000</td></tr><tr><td>dbfs:/FileStore/tables/user_device.csv</td><td>user_device.csv</td><td>17780</td><td>1714447136000</td></tr><tr><td>dbfs:/FileStore/tables/user_usage.csv</td><td>user_usage.csv</td><td>10088</td><td>1714447136000</td></tr><tr><td>dbfs:/FileStore/tables/vehicles-1.csv</td><td>vehicles-1.csv</td><td>115450</td><td>1714444956000</td></tr><tr><td>dbfs:/FileStore/tables/vehicles.csv</td><td>vehicles.csv</td><td>115450</td><td>1714444089000</td></tr><tr><td>dbfs:/FileStore/tables/vehicles.parquet</td><td>vehicles.parquet</td><td>4975246</td><td>1714444968000</td></tr></tbody></table></div>"
      ]
     },
     "metadata": {
      "application/vnd.databricks.v1+output": {
       "addedWidgets": {},
       "aggData": [],
       "aggError": "",
       "aggOverflow": false,
       "aggSchema": [],
       "aggSeriesLimitReached": false,
       "aggType": "",
       "arguments": {},
       "columnCustomDisplayInfos": {},
       "data": [
        [
         "dbfs:/FileStore/tables/CT_fires_2015.csv",
         "CT_fires_2015.csv",
         23357531,
         1714442141000
        ],
        [
         "dbfs:/FileStore/tables/CT_fires_2015Copy.csv",
         "CT_fires_2015Copy.csv",
         23357531,
         1714442141000
        ],
        [
         "dbfs:/FileStore/tables/employee_churn_data.csv",
         "employee_churn_data.csv",
         804108,
         1714708580000
        ],
        [
         "dbfs:/FileStore/tables/food_prices.parquet",
         "food_prices.parquet",
         1394,
         1714442141000
        ],
        [
         "dbfs:/FileStore/tables/northwind.zip",
         "northwind.zip",
         52567,
         1714450770000
        ],
        [
         "dbfs:/FileStore/tables/species.csv",
         "species.csv",
         1605,
         1714448680000
        ],
        [
         "dbfs:/FileStore/tables/surveys.csv",
         "surveys.csv",
         1021588,
         1714448680000
        ],
        [
         "dbfs:/FileStore/tables/user_device.csv",
         "user_device.csv",
         17780,
         1714447136000
        ],
        [
         "dbfs:/FileStore/tables/user_usage.csv",
         "user_usage.csv",
         10088,
         1714447136000
        ],
        [
         "dbfs:/FileStore/tables/vehicles-1.csv",
         "vehicles-1.csv",
         115450,
         1714444956000
        ],
        [
         "dbfs:/FileStore/tables/vehicles.csv",
         "vehicles.csv",
         115450,
         1714444089000
        ],
        [
         "dbfs:/FileStore/tables/vehicles.parquet",
         "vehicles.parquet",
         4975246,
         1714444968000
        ]
       ],
       "datasetInfos": [],
       "dbfsResultPath": null,
       "isJsonSchema": true,
       "metadata": {},
       "overflow": false,
       "plotOptions": {
        "customPlotOptions": {},
        "displayType": "table",
        "pivotAggregation": null,
        "pivotColumns": null,
        "xColumns": null,
        "yColumns": null
       },
       "removedWidgets": [],
       "schema": [
        {
         "metadata": "{}",
         "name": "path",
         "type": "\"string\""
        },
        {
         "metadata": "{}",
         "name": "name",
         "type": "\"string\""
        },
        {
         "metadata": "{}",
         "name": "size",
         "type": "\"long\""
        },
        {
         "metadata": "{}",
         "name": "modificationTime",
         "type": "\"long\""
        }
       ],
       "type": "table"
      }
     },
     "output_type": "display_data"
    }
   ],
   "source": [
    "# Show all the files. \n",
    "display(dbutils.fs.ls(\"/FileStore/tables\"))"
   ]
  },
  {
   "cell_type": "code",
   "execution_count": 0,
   "metadata": {
    "application/vnd.databricks.v1+cell": {
     "cellMetadata": {
      "byteLimit": 2048000,
      "rowLimit": 10000
     },
     "inputWidgets": {},
     "nuid": "ef602808-9318-40c0-8311-0d7ad4cdc531",
     "showTitle": false,
     "title": ""
    }
   },
   "outputs": [
    {
     "output_type": "stream",
     "name": "stdout",
     "output_type": "stream",
     "text": [
      "+----------+--------+------------------+--------+------+------+------------------+-----+------------------+----+\n|department|promoted|            review|projects|salary|tenure|      satisfaction|bonus|     avg_hrs_month|left|\n+----------+--------+------------------+--------+------+------+------------------+-----+------------------+----+\n|operations|       0|0.5775686596355698|       3|   low|   5.0|0.6267589740293295|    0| 180.8660696668475|  no|\n|operations|       0|0.7518996607137884|       3|medium|   6.0|0.4436789547574034|    0| 182.7081489616225|  no|\n|   support|       0|0.7225484486077993|       3|medium|   6.0|0.4468232240377964|    0| 184.4160840365652|  no|\n| logistics|       0|0.6751583086657402|       4|  high|   8.0|0.4401387461171622|    0| 188.7075447757313|  no|\n|     sales|       0| 0.676203174778892|       3|  high|   5.0|0.5776074456916579|    1|179.82108327312108|  no|\n|        IT|       0|0.6832063469509659|       2|medium|   5.0|0.5652518631559001|    1| 178.8418791506508|  no|\n|     admin|       0|0.6201580151095236|       4|  high|   5.0|0.6869511701465508|    0|181.14295615536423|  no|\n|   support|       0|0.4995672619674808|       4|medium|   7.0| 0.720451118181815|    1|184.97753752486025|  no|\n|     sales|       0| 0.652817953302604|       4|   low|   6.0|0.6786959372102828|    0| 183.6557898051497|  no|\n|     sales|       0| 0.642030504394421|       3|medium|   6.0|0.6233650093739659|    0| 181.8509998905145|  no|\n+----------+--------+------------------+--------+------+------+------------------+-----+------------------+----+\nonly showing top 10 rows\n\n"
     ]
    }
   ],
   "source": [
    "# Load the vehicles.csv file into a DataFrame.\n",
    "file_location = '/FileStore/tables/employee_churn_data.csv'\n",
    "df = spark.read.csv(file_location, inferSchema=True, header=True)\n",
    "# Display the DataFrame.\n",
    "df.show(10)"
   ]
  },
  {
   "cell_type": "code",
   "execution_count": 0,
   "metadata": {
    "application/vnd.databricks.v1+cell": {
     "cellMetadata": {
      "byteLimit": 2048000,
      "rowLimit": 10000
     },
     "inputWidgets": {},
     "nuid": "08347501-8216-48f3-8c94-a5285d4143d5",
     "showTitle": false,
     "title": ""
    }
   },
   "outputs": [
    {
     "output_type": "stream",
     "name": "stdout",
     "output_type": "stream",
     "text": [
      "+------+-----+\n|salary|count|\n+------+-----+\n|   low| 1381|\n|  high| 1548|\n|medium| 6611|\n+------+-----+\n\n"
     ]
    }
   ],
   "source": [
    "# Get the number of each salary range using a groupby. \n",
    "count_df = df.groupBy(\"salary\").count()\n",
    "count_df.show()"
   ]
  },
  {
   "cell_type": "code",
   "execution_count": 0,
   "metadata": {
    "application/vnd.databricks.v1+cell": {
     "cellMetadata": {
      "byteLimit": 2048000,
      "rowLimit": 10000
     },
     "inputWidgets": {},
     "nuid": "eb899d9b-5cf5-48ca-894d-eab8aeb3370c",
     "showTitle": false,
     "title": ""
    }
   },
   "outputs": [
    {
     "output_type": "display_data",
     "data": {
      "text/html": [
       "<style scoped>\n",
       "  .table-result-container {\n",
       "    max-height: 300px;\n",
       "    overflow: auto;\n",
       "  }\n",
       "  table, th, td {\n",
       "    border: 1px solid black;\n",
       "    border-collapse: collapse;\n",
       "  }\n",
       "  th, td {\n",
       "    padding: 5px;\n",
       "  }\n",
       "  th {\n",
       "    text-align: left;\n",
       "  }\n",
       "</style><div class='table-result-container'><table class='table-result'><thead style='background-color: white'><tr><th>salary</th><th>count</th></tr></thead><tbody><tr><td>low</td><td>1381</td></tr><tr><td>high</td><td>1548</td></tr><tr><td>medium</td><td>6611</td></tr></tbody></table></div>"
      ]
     },
     "metadata": {
      "application/vnd.databricks.v1+output": {
       "addedWidgets": {},
       "aggData": [],
       "aggError": "",
       "aggOverflow": false,
       "aggSchema": [],
       "aggSeriesLimitReached": false,
       "aggType": "",
       "arguments": {},
       "columnCustomDisplayInfos": {},
       "data": [
        [
         "low",
         1381
        ],
        [
         "high",
         1548
        ],
        [
         "medium",
         6611
        ]
       ],
       "datasetInfos": [],
       "dbfsResultPath": null,
       "isJsonSchema": true,
       "metadata": {},
       "overflow": false,
       "plotOptions": {
        "customPlotOptions": {},
        "displayType": "table",
        "pivotAggregation": null,
        "pivotColumns": null,
        "xColumns": null,
        "yColumns": null
       },
       "removedWidgets": [],
       "schema": [
        {
         "metadata": "{}",
         "name": "salary",
         "type": "\"string\""
        },
        {
         "metadata": "{}",
         "name": "count",
         "type": "\"long\""
        }
       ],
       "type": "table"
      }
     },
     "output_type": "display_data"
    },
    {
     "output_type": "display_data",
     "data": {
      "text/plain": [
       "Databricks visualization. Run in Databricks to view."
      ]
     },
     "metadata": {
      "application/vnd.databricks.v1.subcommand+json": {
       "baseErrorDetails": null,
       "bindings": {},
       "collapsed": false,
       "command": "%python\n__backend_agg_display_orig = display\n__backend_agg_dfs = []\ndef __backend_agg_display_new(df):\n    __backend_agg_df_modules = [\"pandas.core.frame\", \"databricks.koalas.frame\", \"pyspark.sql.dataframe\", \"pyspark.pandas.frame\", \"pyspark.sql.connect.dataframe\"]\n    if (type(df).__module__ in __backend_agg_df_modules and type(df).__name__ == 'DataFrame') or isinstance(df, list):\n        __backend_agg_dfs.append(df)\n\ndisplay = __backend_agg_display_new\n\ndef __backend_agg_user_code_fn():\n    import base64\n    exec(base64.standard_b64decode(\"IyBEaXNwbGF5IHRoZSBEYXRhRnJhbWUgYW5kIGNyZWF0ZSBhIGJhciBjaGFydC4KZGlzcGxheShjb3VudF9kZik=\").decode())\n\ntry:\n    # run user code\n    __backend_agg_user_code_fn()\n\n    #reset display function\n    display = __backend_agg_display_orig\n\n    if len(__backend_agg_dfs) > 0:\n        # create a temp view\n        if type(__backend_agg_dfs[0]).__module__ == \"databricks.koalas.frame\":\n            # koalas dataframe\n            __backend_agg_dfs[0].to_spark().createOrReplaceTempView(\"DatabricksViewf044704\")\n        elif type(__backend_agg_dfs[0]).__module__ == \"pandas.core.frame\" or isinstance(__backend_agg_dfs[0], list):\n            # pandas dataframe\n            spark.createDataFrame(__backend_agg_dfs[0]).createOrReplaceTempView(\"DatabricksViewf044704\")\n        else:\n            __backend_agg_dfs[0].createOrReplaceTempView(\"DatabricksViewf044704\")\n        #run backend agg\n        display(spark.sql(\"\"\"WITH q AS (select * from DatabricksViewf044704) SELECT `salary`,SUM(`count`) `column_4de46c855` FROM q GROUP BY `salary`\"\"\"))\n    else:\n        displayHTML(\"dataframe no longer exists. If you're using dataframe.display(), use display(dataframe) instead.\")\n\n\nfinally:\n    spark.sql(\"drop view if exists DatabricksViewf044704\")\n    display = __backend_agg_display_orig\n    del __backend_agg_display_new\n    del __backend_agg_display_orig\n    del __backend_agg_dfs\n    del __backend_agg_user_code_fn\n\n",
       "commandTitle": "Visualization 1",
       "commandType": "auto",
       "commandVersion": 0,
       "commentThread": [],
       "commentsVisible": false,
       "contentSha256Hex": null,
       "customPlotOptions": {
        "redashChart": [
         {
          "key": "type",
          "value": "CHART"
         },
         {
          "key": "options",
          "value": {
           "alignYAxesAtZero": true,
           "coefficient": 1,
           "columnConfigurationMap": {
            "x": {
             "column": "salary",
             "id": "column_4de46c854"
            },
            "y": [
             {
              "column": "count",
              "id": "column_4de46c855",
              "transform": "SUM"
             }
            ]
           },
           "dateTimeFormat": "DD/MM/YYYY HH:mm",
           "direction": {
            "type": "counterclockwise"
           },
           "error_y": {
            "type": "data",
            "visible": true
           },
           "globalSeriesType": "column",
           "legend": {
            "traceorder": "normal"
           },
           "missingValuesAsZero": true,
           "numberFormat": "0,0.[00000]",
           "percentFormat": "0[.]00%",
           "series": {
            "error_y": {
             "type": "data",
             "visible": true
            },
            "stacking": null
           },
           "seriesOptions": {
            "column_4de46c855": {
             "name": "count",
             "yAxis": 0
            }
           },
           "showDataLabels": false,
           "sizemode": "diameter",
           "sortX": true,
           "sortY": true,
           "swappedAxes": true,
           "textFormat": "",
           "useAggregationsUi": true,
           "valuesOptions": {},
           "version": 2,
           "xAxis": {
            "labels": {
             "enabled": true
            },
            "type": "-"
           },
           "yAxis": [
            {
             "type": "-"
            },
            {
             "opposite": true,
             "type": "-"
            }
           ]
          }
         }
        ]
       },
       "datasetPreviewNameToCmdIdMap": {},
       "diffDeletes": [],
       "diffInserts": [],
       "displayType": "redashChart",
       "error": null,
       "errorDetails": null,
       "errorSummary": null,
       "errorTraceType": null,
       "finishTime": 0,
       "globalVars": {},
       "guid": "",
       "height": "auto",
       "hideCommandCode": false,
       "hideCommandResult": false,
       "iPythonMetadata": null,
       "inputWidgets": {},
       "isLockedInExamMode": false,
       "latestUser": "a user",
       "latestUserId": null,
       "listResultMetadata": null,
       "metadata": {},
       "nuid": "b0a178af-6950-4822-a87d-1c744942982b",
       "origId": 0,
       "parentHierarchy": [],
       "pivotAggregation": null,
       "pivotColumns": null,
       "position": 5.0,
       "resultDbfsErrorMessage": null,
       "resultDbfsStatus": "INLINED_IN_TREE",
       "results": null,
       "showCommandTitle": false,
       "startTime": 0,
       "state": "input",
       "streamStates": {},
       "subcommandOptions": {
        "queryPlan": {
         "groups": [
          {
           "column": "salary",
           "type": "column"
          }
         ],
         "selects": [
          {
           "column": "salary",
           "type": "column"
          },
          {
           "alias": "column_4de46c855",
           "args": [
            {
             "column": "count",
             "type": "column"
            }
           ],
           "function": "SUM",
           "type": "function"
          }
         ]
        }
       },
       "submitTime": 0,
       "subtype": "tableResultSubCmd.visualization",
       "tableResultIndex": 0,
       "useConsistentColors": false,
       "version": "CommandV1",
       "width": "auto",
       "workflows": [],
       "xColumns": null,
       "yColumns": null
      }
     },
     "output_type": "display_data"
    }
   ],
   "source": [
    "# Display the DataFrame and create a bar chart.\n",
    "display(count_df)"
   ]
  },
  {
   "cell_type": "code",
   "execution_count": 0,
   "metadata": {
    "application/vnd.databricks.v1+cell": {
     "cellMetadata": {
      "byteLimit": 2048000,
      "rowLimit": 10000
     },
     "inputWidgets": {},
     "nuid": "240848f3-bbbd-4938-a755-f17fee557b6f",
     "showTitle": false,
     "title": ""
    }
   },
   "outputs": [],
   "source": [
    "# Create a temporary view of the DataFrame\n",
    "df.createOrReplaceTempView(\"employee_data\")\n"
   ]
  },
  {
   "cell_type": "code",
   "execution_count": 0,
   "metadata": {
    "application/vnd.databricks.v1+cell": {
     "cellMetadata": {
      "byteLimit": 2048000,
      "implicitDf": true,
      "rowLimit": 10000
     },
     "inputWidgets": {},
     "nuid": "ee69c02a-3485-4f89-8e71-81e93232c0d8",
     "showTitle": false,
     "title": ""
    }
   },
   "outputs": [
    {
     "output_type": "display_data",
     "data": {
      "text/html": [
       "<style scoped>\n",
       "  .table-result-container {\n",
       "    max-height: 300px;\n",
       "    overflow: auto;\n",
       "  }\n",
       "  table, th, td {\n",
       "    border: 1px solid black;\n",
       "    border-collapse: collapse;\n",
       "  }\n",
       "  th, td {\n",
       "    padding: 5px;\n",
       "  }\n",
       "  th {\n",
       "    text-align: left;\n",
       "  }\n",
       "</style><div class='table-result-container'><table class='table-result'><thead style='background-color: white'><tr><th>salary</th><th>num_employees_left</th></tr></thead><tbody><tr><td>low</td><td>391</td></tr><tr><td>high</td><td>442</td></tr><tr><td>medium</td><td>1951</td></tr></tbody></table></div>"
      ]
     },
     "metadata": {
      "application/vnd.databricks.v1+output": {
       "addedWidgets": {},
       "aggData": [],
       "aggError": "",
       "aggOverflow": false,
       "aggSchema": [],
       "aggSeriesLimitReached": false,
       "aggType": "",
       "arguments": {},
       "columnCustomDisplayInfos": {},
       "data": [
        [
         "low",
         391
        ],
        [
         "high",
         442
        ],
        [
         "medium",
         1951
        ]
       ],
       "datasetInfos": [],
       "dbfsResultPath": null,
       "isJsonSchema": true,
       "metadata": {},
       "overflow": false,
       "plotOptions": {
        "customPlotOptions": {},
        "displayType": "table",
        "pivotAggregation": null,
        "pivotColumns": null,
        "xColumns": null,
        "yColumns": null
       },
       "removedWidgets": [],
       "schema": [
        {
         "metadata": "{}",
         "name": "salary",
         "type": "\"string\""
        },
        {
         "metadata": "{}",
         "name": "num_employees_left",
         "type": "\"long\""
        }
       ],
       "type": "table"
      }
     },
     "output_type": "display_data"
    },
    {
     "output_type": "display_data",
     "data": {
      "text/plain": [
       "Databricks visualization. Run in Databricks to view."
      ]
     },
     "metadata": {
      "application/vnd.databricks.v1.subcommand+json": {
       "baseErrorDetails": null,
       "bindings": {},
       "collapsed": false,
       "command": "%sql WITH q AS (SELECT salary, COUNT(*) AS num_employees_left\nFROM employee_data\nWHERE left = 'yes'\nGROUP BY salary) SELECT `salary`,SUM(`num_employees_left`) `column_de8b33f62` FROM q GROUP BY `salary`",
       "commandTitle": "Visualization 1",
       "commandType": "auto",
       "commandVersion": 0,
       "commentThread": [],
       "commentsVisible": false,
       "contentSha256Hex": null,
       "customPlotOptions": {
        "redashChart": [
         {
          "key": "type",
          "value": "CHART"
         },
         {
          "key": "options",
          "value": {
           "alignYAxesAtZero": true,
           "coefficient": 1,
           "columnConfigurationMap": {
            "x": {
             "column": "salary",
             "id": "column_de8b33f61"
            },
            "y": [
             {
              "column": "num_employees_left",
              "id": "column_de8b33f62",
              "transform": "SUM"
             }
            ]
           },
           "dateTimeFormat": "DD/MM/YYYY HH:mm",
           "direction": {
            "type": "counterclockwise"
           },
           "error_y": {
            "type": "data",
            "visible": true
           },
           "globalSeriesType": "column",
           "legend": {
            "traceorder": "normal"
           },
           "missingValuesAsZero": true,
           "numberFormat": "0,0.[00000]",
           "percentFormat": "0[.]00%",
           "series": {
            "error_y": {
             "type": "data",
             "visible": true
            },
            "stacking": null
           },
           "seriesOptions": {
            "column_de8b33f62": {
             "name": "num_employees_left",
             "yAxis": 0
            }
           },
           "showDataLabels": false,
           "sizemode": "diameter",
           "sortX": true,
           "sortY": true,
           "swappedAxes": true,
           "textFormat": "",
           "useAggregationsUi": true,
           "valuesOptions": {},
           "version": 2,
           "xAxis": {
            "labels": {
             "enabled": true
            },
            "type": "-"
           },
           "yAxis": [
            {
             "type": "-"
            },
            {
             "opposite": true,
             "type": "-"
            }
           ]
          }
         }
        ]
       },
       "datasetPreviewNameToCmdIdMap": {},
       "diffDeletes": [],
       "diffInserts": [],
       "displayType": "redashChart",
       "error": null,
       "errorDetails": null,
       "errorSummary": null,
       "errorTraceType": null,
       "finishTime": 0,
       "globalVars": {},
       "guid": "",
       "height": "auto",
       "hideCommandCode": false,
       "hideCommandResult": false,
       "iPythonMetadata": null,
       "inputWidgets": {},
       "isLockedInExamMode": false,
       "latestUser": "a user",
       "latestUserId": null,
       "listResultMetadata": null,
       "metadata": {},
       "nuid": "314467e2-d853-4f80-9aba-98bdc5d310e8",
       "origId": 0,
       "parentHierarchy": [],
       "pivotAggregation": null,
       "pivotColumns": null,
       "position": 7.0,
       "resultDbfsErrorMessage": null,
       "resultDbfsStatus": "INLINED_IN_TREE",
       "results": null,
       "showCommandTitle": false,
       "startTime": 0,
       "state": "input",
       "streamStates": {},
       "subcommandOptions": {
        "queryPlan": {
         "groups": [
          {
           "column": "salary",
           "type": "column"
          }
         ],
         "selects": [
          {
           "column": "salary",
           "type": "column"
          },
          {
           "alias": "column_de8b33f62",
           "args": [
            {
             "column": "num_employees_left",
             "type": "column"
            }
           ],
           "function": "SUM",
           "type": "function"
          }
         ]
        }
       },
       "submitTime": 0,
       "subtype": "tableResultSubCmd.visualization",
       "tableResultIndex": 0,
       "useConsistentColors": false,
       "version": "CommandV1",
       "width": "auto",
       "workflows": [],
       "xColumns": null,
       "yColumns": null
      }
     },
     "output_type": "display_data"
    }
   ],
   "source": [
    "%sql\n",
    "--  Query that shows how many employees left the company, acoording to their salary.\n",
    "SELECT salary, COUNT(*) AS num_employees_left\n",
    "FROM employee_data\n",
    "WHERE left = 'yes'\n",
    "GROUP BY salary;"
   ]
  },
  {
   "cell_type": "code",
   "execution_count": 0,
   "metadata": {
    "application/vnd.databricks.v1+cell": {
     "cellMetadata": {
      "byteLimit": 2048000,
      "implicitDf": true,
      "rowLimit": 10000
     },
     "inputWidgets": {},
     "nuid": "c1572fb0-0bb4-46a5-966a-58c27bfdc1a6",
     "showTitle": false,
     "title": ""
    }
   },
   "outputs": [
    {
     "output_type": "display_data",
     "data": {
      "text/html": [
       "<style scoped>\n",
       "  .table-result-container {\n",
       "    max-height: 300px;\n",
       "    overflow: auto;\n",
       "  }\n",
       "  table, th, td {\n",
       "    border: 1px solid black;\n",
       "    border-collapse: collapse;\n",
       "  }\n",
       "  th, td {\n",
       "    padding: 5px;\n",
       "  }\n",
       "  th {\n",
       "    text-align: left;\n",
       "  }\n",
       "</style><div class='table-result-container'><table class='table-result'><thead style='background-color: white'><tr><th>salary</th><th>min_hours</th><th>max_hours</th><th>avg_hours</th></tr></thead><tbody><tr><td>low</td><td>174.1457191627814</td><td>192.0486089060469</td><td>184.80249472873956</td></tr><tr><td>high</td><td>173.02771625356567</td><td>193.2550342661412</td><td>184.6563604171455</td></tr><tr><td>medium</td><td>171.37406048199938</td><td>192.9692229634878</td><td>184.7174994603533</td></tr></tbody></table></div>"
      ]
     },
     "metadata": {
      "application/vnd.databricks.v1+output": {
       "addedWidgets": {},
       "aggData": [],
       "aggError": "",
       "aggOverflow": false,
       "aggSchema": [],
       "aggSeriesLimitReached": false,
       "aggType": "",
       "arguments": {},
       "columnCustomDisplayInfos": {},
       "data": [
        [
         "low",
         174.1457191627814,
         192.0486089060469,
         184.80249472873956
        ],
        [
         "high",
         173.02771625356567,
         193.2550342661412,
         184.6563604171455
        ],
        [
         "medium",
         171.37406048199938,
         192.9692229634878,
         184.7174994603533
        ]
       ],
       "datasetInfos": [],
       "dbfsResultPath": null,
       "isJsonSchema": true,
       "metadata": {},
       "overflow": false,
       "plotOptions": {
        "customPlotOptions": {},
        "displayType": "table",
        "pivotAggregation": null,
        "pivotColumns": null,
        "xColumns": null,
        "yColumns": null
       },
       "removedWidgets": [],
       "schema": [
        {
         "metadata": "{}",
         "name": "salary",
         "type": "\"string\""
        },
        {
         "metadata": "{}",
         "name": "min_hours",
         "type": "\"double\""
        },
        {
         "metadata": "{}",
         "name": "max_hours",
         "type": "\"double\""
        },
        {
         "metadata": "{}",
         "name": "avg_hours",
         "type": "\"double\""
        }
       ],
       "type": "table"
      }
     },
     "output_type": "display_data"
    }
   ],
   "source": [
    "%sql\n",
    "-- Query to see if work shifts are a factor why employees left the company \n",
    "SELECT \n",
    "    salary,\n",
    "    MIN(avg_hrs_month) AS min_hours_month,\n",
    "    MAX(avg_hrs_month) AS max_hours_month,\n",
    "    AVG(avg_hrs_month) AS avg_hours_month\n",
    "FROM \n",
    "    employee_data\n",
    "WHERE left = 'yes' \n",
    "GROUP BY salary;\n"
   ]
  },
  {
   "cell_type": "code",
   "execution_count": 0,
   "metadata": {
    "application/vnd.databricks.v1+cell": {
     "cellMetadata": {
      "byteLimit": 2048000,
      "implicitDf": true,
      "rowLimit": 10000
     },
     "inputWidgets": {},
     "nuid": "2aaa9cad-ccfe-41cd-bc52-daa21bedb422",
     "showTitle": false,
     "title": ""
    }
   },
   "outputs": [
    {
     "output_type": "display_data",
     "data": {
      "text/html": [
       "<style scoped>\n",
       "  .table-result-container {\n",
       "    max-height: 300px;\n",
       "    overflow: auto;\n",
       "  }\n",
       "  table, th, td {\n",
       "    border: 1px solid black;\n",
       "    border-collapse: collapse;\n",
       "  }\n",
       "  th, td {\n",
       "    padding: 5px;\n",
       "  }\n",
       "  th {\n",
       "    text-align: left;\n",
       "  }\n",
       "</style><div class='table-result-container'><table class='table-result'><thead style='background-color: white'><tr><th>salary</th><th>num_employees_left</th></tr></thead><tbody><tr><td>low</td><td>4</td></tr><tr><td>high</td><td>9</td></tr><tr><td>medium</td><td>44</td></tr></tbody></table></div>"
      ]
     },
     "metadata": {
      "application/vnd.databricks.v1+output": {
       "addedWidgets": {},
       "aggData": [],
       "aggError": "",
       "aggOverflow": false,
       "aggSchema": [],
       "aggSeriesLimitReached": false,
       "aggType": "",
       "arguments": {},
       "columnCustomDisplayInfos": {},
       "data": [
        [
         "low",
         4
        ],
        [
         "high",
         9
        ],
        [
         "medium",
         44
        ]
       ],
       "datasetInfos": [],
       "dbfsResultPath": null,
       "isJsonSchema": true,
       "metadata": {},
       "overflow": false,
       "plotOptions": {
        "customPlotOptions": {},
        "displayType": "table",
        "pivotAggregation": null,
        "pivotColumns": null,
        "xColumns": null,
        "yColumns": null
       },
       "removedWidgets": [],
       "schema": [
        {
         "metadata": "{}",
         "name": "salary",
         "type": "\"string\""
        },
        {
         "metadata": "{}",
         "name": "num_employees_left",
         "type": "\"long\""
        }
       ],
       "type": "table"
      }
     },
     "output_type": "display_data"
    }
   ],
   "source": [
    "%sql\n",
    "-- Query to see how many employees who were promoted left the company. \n",
    "SELECT salary, COUNT(*) AS num_employees_left\n",
    "FROM employee_data\n",
    "WHERE left = 'yes' AND promoted = '1'\n",
    "GROUP BY salary;"
   ]
  },
  {
   "cell_type": "code",
   "execution_count": 0,
   "metadata": {
    "application/vnd.databricks.v1+cell": {
     "cellMetadata": {
      "byteLimit": 2048000,
      "implicitDf": true,
      "rowLimit": 10000
     },
     "inputWidgets": {},
     "nuid": "dcb5dbbd-a962-4c2c-9e5c-fcf67fc14c0d",
     "showTitle": false,
     "title": ""
    }
   },
   "outputs": [
    {
     "output_type": "display_data",
     "data": {
      "text/html": [
       "<style scoped>\n",
       "  .table-result-container {\n",
       "    max-height: 300px;\n",
       "    overflow: auto;\n",
       "  }\n",
       "  table, th, td {\n",
       "    border: 1px solid black;\n",
       "    border-collapse: collapse;\n",
       "  }\n",
       "  th, td {\n",
       "    padding: 5px;\n",
       "  }\n",
       "  th {\n",
       "    text-align: left;\n",
       "  }\n",
       "</style><div class='table-result-container'><table class='table-result'><thead style='background-color: white'><tr><th>salary</th><th>num_employees_left</th></tr></thead><tbody><tr><td>low</td><td>387</td></tr><tr><td>high</td><td>433</td></tr><tr><td>medium</td><td>1907</td></tr></tbody></table></div>"
      ]
     },
     "metadata": {
      "application/vnd.databricks.v1+output": {
       "addedWidgets": {},
       "aggData": [],
       "aggError": "",
       "aggOverflow": false,
       "aggSchema": [],
       "aggSeriesLimitReached": false,
       "aggType": "",
       "arguments": {},
       "columnCustomDisplayInfos": {},
       "data": [
        [
         "low",
         387
        ],
        [
         "high",
         433
        ],
        [
         "medium",
         1907
        ]
       ],
       "datasetInfos": [],
       "dbfsResultPath": null,
       "isJsonSchema": true,
       "metadata": {},
       "overflow": false,
       "plotOptions": {
        "customPlotOptions": {},
        "displayType": "table",
        "pivotAggregation": null,
        "pivotColumns": null,
        "xColumns": null,
        "yColumns": null
       },
       "removedWidgets": [],
       "schema": [
        {
         "metadata": "{}",
         "name": "salary",
         "type": "\"string\""
        },
        {
         "metadata": "{}",
         "name": "num_employees_left",
         "type": "\"long\""
        }
       ],
       "type": "table"
      }
     },
     "output_type": "display_data"
    }
   ],
   "source": [
    "%sql\n",
    "-- Query to see how many employees  weren't promoted left the company. \n",
    "SELECT salary, COUNT(*) AS num_employees_left\n",
    "FROM employee_data\n",
    "WHERE left = 'yes' AND promoted = '0'\n",
    "GROUP BY salary;"
   ]
  },
  {
   "cell_type": "code",
   "execution_count": 0,
   "metadata": {
    "application/vnd.databricks.v1+cell": {
     "cellMetadata": {
      "byteLimit": 2048000,
      "implicitDf": true,
      "rowLimit": 10000
     },
     "inputWidgets": {},
     "nuid": "79417da8-5827-4d8f-a9a6-607f007089fa",
     "showTitle": false,
     "title": ""
    }
   },
   "outputs": [
    {
     "output_type": "display_data",
     "data": {
      "text/html": [
       "<style scoped>\n",
       "  .table-result-container {\n",
       "    max-height: 300px;\n",
       "    overflow: auto;\n",
       "  }\n",
       "  table, th, td {\n",
       "    border: 1px solid black;\n",
       "    border-collapse: collapse;\n",
       "  }\n",
       "  th, td {\n",
       "    padding: 5px;\n",
       "  }\n",
       "  th {\n",
       "    text-align: left;\n",
       "  }\n",
       "</style><div class='table-result-container'><table class='table-result'><thead style='background-color: white'><tr><th>salary</th><th>avg_review</th><th>avg_satisfaction</th></tr></thead><tbody><tr><td>low</td><td>0.712857083566572</td><td>0.518096435607686</td></tr><tr><td>high</td><td>0.721680111999996</td><td>0.43421349391398767</td></tr><tr><td>medium</td><td>0.7075340150931049</td><td>0.46680270146456576</td></tr></tbody></table></div>"
      ]
     },
     "metadata": {
      "application/vnd.databricks.v1+output": {
       "addedWidgets": {},
       "aggData": [],
       "aggError": "",
       "aggOverflow": false,
       "aggSchema": [],
       "aggSeriesLimitReached": false,
       "aggType": "",
       "arguments": {},
       "columnCustomDisplayInfos": {},
       "data": [
        [
         "low",
         0.712857083566572,
         0.518096435607686
        ],
        [
         "high",
         0.721680111999996,
         0.43421349391398767
        ],
        [
         "medium",
         0.7075340150931049,
         0.46680270146456576
        ]
       ],
       "datasetInfos": [],
       "dbfsResultPath": null,
       "isJsonSchema": true,
       "metadata": {},
       "overflow": false,
       "plotOptions": {
        "customPlotOptions": {},
        "displayType": "table",
        "pivotAggregation": null,
        "pivotColumns": null,
        "xColumns": null,
        "yColumns": null
       },
       "removedWidgets": [],
       "schema": [
        {
         "metadata": "{}",
         "name": "salary",
         "type": "\"string\""
        },
        {
         "metadata": "{}",
         "name": "avg_review",
         "type": "\"double\""
        },
        {
         "metadata": "{}",
         "name": "avg_satisfaction",
         "type": "\"double\""
        }
       ],
       "type": "table"
      }
     },
     "output_type": "display_data"
    }
   ],
   "source": [
    "%sql\n",
    "-- Query to see the average reviews and satisfaction of the employees who didn't left the company, gruping by \"salary\"\n",
    " \n",
    " SELECT \n",
    "    salary,\n",
    "    AVG(review) AS avg_review,\n",
    "    AVG(satisfaction) AS avg_satisfaction\n",
    "FROM \n",
    "    employee_data\n",
    "WHERE \n",
    "    left = 'yes' AND promoted = '1'\n",
    "GROUP BY \n",
    "    salary;\n"
   ]
  },
  {
   "cell_type": "code",
   "execution_count": 0,
   "metadata": {
    "application/vnd.databricks.v1+cell": {
     "cellMetadata": {
      "byteLimit": 2048000,
      "implicitDf": true,
      "rowLimit": 10000
     },
     "inputWidgets": {},
     "nuid": "34d4d07b-f61b-474b-8fa1-c2b05e67599d",
     "showTitle": false,
     "title": ""
    }
   },
   "outputs": [
    {
     "output_type": "display_data",
     "data": {
      "text/html": [
       "<style scoped>\n",
       "  .table-result-container {\n",
       "    max-height: 300px;\n",
       "    overflow: auto;\n",
       "  }\n",
       "  table, th, td {\n",
       "    border: 1px solid black;\n",
       "    border-collapse: collapse;\n",
       "  }\n",
       "  th, td {\n",
       "    padding: 5px;\n",
       "  }\n",
       "  th {\n",
       "    text-align: left;\n",
       "  }\n",
       "</style><div class='table-result-container'><table class='table-result'><thead style='background-color: white'><tr><th>salary</th><th>avg_review</th><th>avg_satisfaction</th></tr></thead><tbody><tr><td>low</td><td>0.6952636163993403</td><td>0.5047092200111343</td></tr><tr><td>high</td><td>0.6950327933509489</td><td>0.5039816541263762</td></tr><tr><td>medium</td><td>0.690489303460667</td><td>0.5024542207022337</td></tr></tbody></table></div>"
      ]
     },
     "metadata": {
      "application/vnd.databricks.v1+output": {
       "addedWidgets": {},
       "aggData": [],
       "aggError": "",
       "aggOverflow": false,
       "aggSchema": [],
       "aggSeriesLimitReached": false,
       "aggType": "",
       "arguments": {},
       "columnCustomDisplayInfos": {},
       "data": [
        [
         "low",
         0.6952636163993403,
         0.5047092200111343
        ],
        [
         "high",
         0.6950327933509489,
         0.5039816541263762
        ],
        [
         "medium",
         0.690489303460667,
         0.5024542207022337
        ]
       ],
       "datasetInfos": [],
       "dbfsResultPath": null,
       "isJsonSchema": true,
       "metadata": {},
       "overflow": false,
       "plotOptions": {
        "customPlotOptions": {},
        "displayType": "table",
        "pivotAggregation": null,
        "pivotColumns": null,
        "xColumns": null,
        "yColumns": null
       },
       "removedWidgets": [],
       "schema": [
        {
         "metadata": "{}",
         "name": "salary",
         "type": "\"string\""
        },
        {
         "metadata": "{}",
         "name": "avg_review",
         "type": "\"double\""
        },
        {
         "metadata": "{}",
         "name": "avg_satisfaction",
         "type": "\"double\""
        }
       ],
       "type": "table"
      }
     },
     "output_type": "display_data"
    }
   ],
   "source": [
    "%sql\n",
    "-- Query to see the average reviews and satisfaction of the employees who left the company, gruping by \"salary\"\n",
    " \n",
    " SELECT \n",
    "    salary,\n",
    "    AVG(review) AS avg_review,\n",
    "    AVG(satisfaction) AS avg_satisfaction\n",
    "FROM \n",
    "    employee_data\n",
    "WHERE \n",
    "    left = 'yes' AND promoted = '0'\n",
    "GROUP BY \n",
    "    salary;"
   ]
  },
  {
   "cell_type": "code",
   "execution_count": 0,
   "metadata": {
    "application/vnd.databricks.v1+cell": {
     "cellMetadata": {},
     "inputWidgets": {},
     "nuid": "303e65e4-12fb-4442-b96e-3f001072043e",
     "showTitle": false,
     "title": ""
    }
   },
   "outputs": [],
   "source": []
  }
 ],
 "metadata": {
  "application/vnd.databricks.v1+notebook": {
   "dashboards": [],
   "language": "python",
   "notebookMetadata": {
    "mostRecentlyExecutedCommandWithImplicitDF": {
     "commandId": 4016524881207227,
     "dataframes": [
      "_sqldf"
     ]
    },
    "pythonIndentUnit": 4
   },
   "notebookName": "Project_4",
   "widgets": {}
  }
 },
 "nbformat": 4,
 "nbformat_minor": 0
}

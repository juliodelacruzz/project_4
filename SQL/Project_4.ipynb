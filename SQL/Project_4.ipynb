{
 "cells": [
  {
   "cell_type": "code",
   "execution_count": 0,
   "metadata": {
    "application/vnd.databricks.v1+cell": {
     "cellMetadata": {
      "byteLimit": 2048000,
      "rowLimit": 10000
     },
     "inputWidgets": {},
     "nuid": "92977c75-7d9f-4bca-b13e-bdf2ac1acc80",
     "showTitle": false,
     "title": ""
    }
   },
   "outputs": [
    {
     "output_type": "display_data",
     "data": {
      "text/html": [
       "<style scoped>\n",
       "  .table-result-container {\n",
       "    max-height: 300px;\n",
       "    overflow: auto;\n",
       "  }\n",
       "  table, th, td {\n",
       "    border: 1px solid black;\n",
       "    border-collapse: collapse;\n",
       "  }\n",
       "  th, td {\n",
       "    padding: 5px;\n",
       "  }\n",
       "  th {\n",
       "    text-align: left;\n",
       "  }\n",
       "</style><div class='table-result-container'><table class='table-result'><thead style='background-color: white'><tr><th>path</th><th>name</th><th>size</th><th>modificationTime</th></tr></thead><tbody><tr><td>dbfs:/FileStore/tables/CT_fires_2015.csv</td><td>CT_fires_2015.csv</td><td>23357531</td><td>1714442141000</td></tr><tr><td>dbfs:/FileStore/tables/CT_fires_2015Copy.csv</td><td>CT_fires_2015Copy.csv</td><td>23357531</td><td>1714442141000</td></tr><tr><td>dbfs:/FileStore/tables/employee_churn_data.csv</td><td>employee_churn_data.csv</td><td>804108</td><td>1714708580000</td></tr><tr><td>dbfs:/FileStore/tables/employee_left.csv</td><td>employee_left.csv</td><td>100</td><td>1715140947000</td></tr><tr><td>dbfs:/FileStore/tables/food_prices.parquet</td><td>food_prices.parquet</td><td>1394</td><td>1714442141000</td></tr><tr><td>dbfs:/FileStore/tables/northwind.zip</td><td>northwind.zip</td><td>52567</td><td>1714450770000</td></tr><tr><td>dbfs:/FileStore/tables/species.csv</td><td>species.csv</td><td>1605</td><td>1714448680000</td></tr><tr><td>dbfs:/FileStore/tables/surveys.csv</td><td>surveys.csv</td><td>1021588</td><td>1714448680000</td></tr><tr><td>dbfs:/FileStore/tables/user_device.csv</td><td>user_device.csv</td><td>17780</td><td>1714447136000</td></tr><tr><td>dbfs:/FileStore/tables/user_usage.csv</td><td>user_usage.csv</td><td>10088</td><td>1714447136000</td></tr><tr><td>dbfs:/FileStore/tables/vehicles-1.csv</td><td>vehicles-1.csv</td><td>115450</td><td>1714444956000</td></tr><tr><td>dbfs:/FileStore/tables/vehicles.csv</td><td>vehicles.csv</td><td>115450</td><td>1714444089000</td></tr><tr><td>dbfs:/FileStore/tables/vehicles.parquet</td><td>vehicles.parquet</td><td>4975246</td><td>1714444968000</td></tr></tbody></table></div>"
      ]
     },
     "metadata": {
      "application/vnd.databricks.v1+output": {
       "addedWidgets": {},
       "aggData": [],
       "aggError": "",
       "aggOverflow": false,
       "aggSchema": [],
       "aggSeriesLimitReached": false,
       "aggType": "",
       "arguments": {},
       "columnCustomDisplayInfos": {},
       "data": [
        [
         "dbfs:/FileStore/tables/CT_fires_2015.csv",
         "CT_fires_2015.csv",
         23357531,
         1714442141000
        ],
        [
         "dbfs:/FileStore/tables/CT_fires_2015Copy.csv",
         "CT_fires_2015Copy.csv",
         23357531,
         1714442141000
        ],
        [
         "dbfs:/FileStore/tables/employee_churn_data.csv",
         "employee_churn_data.csv",
         804108,
         1714708580000
        ],
        [
         "dbfs:/FileStore/tables/employee_left.csv",
         "employee_left.csv",
         100,
         1715140947000
        ],
        [
         "dbfs:/FileStore/tables/food_prices.parquet",
         "food_prices.parquet",
         1394,
         1714442141000
        ],
        [
         "dbfs:/FileStore/tables/northwind.zip",
         "northwind.zip",
         52567,
         1714450770000
        ],
        [
         "dbfs:/FileStore/tables/species.csv",
         "species.csv",
         1605,
         1714448680000
        ],
        [
         "dbfs:/FileStore/tables/surveys.csv",
         "surveys.csv",
         1021588,
         1714448680000
        ],
        [
         "dbfs:/FileStore/tables/user_device.csv",
         "user_device.csv",
         17780,
         1714447136000
        ],
        [
         "dbfs:/FileStore/tables/user_usage.csv",
         "user_usage.csv",
         10088,
         1714447136000
        ],
        [
         "dbfs:/FileStore/tables/vehicles-1.csv",
         "vehicles-1.csv",
         115450,
         1714444956000
        ],
        [
         "dbfs:/FileStore/tables/vehicles.csv",
         "vehicles.csv",
         115450,
         1714444089000
        ],
        [
         "dbfs:/FileStore/tables/vehicles.parquet",
         "vehicles.parquet",
         4975246,
         1714444968000
        ]
       ],
       "datasetInfos": [],
       "dbfsResultPath": null,
       "isJsonSchema": true,
       "metadata": {},
       "overflow": false,
       "plotOptions": {
        "customPlotOptions": {},
        "displayType": "table",
        "pivotAggregation": null,
        "pivotColumns": null,
        "xColumns": null,
        "yColumns": null
       },
       "removedWidgets": [],
       "schema": [
        {
         "metadata": "{}",
         "name": "path",
         "type": "\"string\""
        },
        {
         "metadata": "{}",
         "name": "name",
         "type": "\"string\""
        },
        {
         "metadata": "{}",
         "name": "size",
         "type": "\"long\""
        },
        {
         "metadata": "{}",
         "name": "modificationTime",
         "type": "\"long\""
        }
       ],
       "type": "table"
      }
     },
     "output_type": "display_data"
    }
   ],
   "source": [
    "# Show all the files. \n",
    "display(dbutils.fs.ls(\"/FileStore/tables\"))"
   ]
  },
  {
   "cell_type": "code",
   "execution_count": 0,
   "metadata": {
    "application/vnd.databricks.v1+cell": {
     "cellMetadata": {
      "byteLimit": 2048000,
      "rowLimit": 10000
     },
     "inputWidgets": {},
     "nuid": "ef602808-9318-40c0-8311-0d7ad4cdc531",
     "showTitle": false,
     "title": ""
    }
   },
   "outputs": [
    {
     "output_type": "stream",
     "name": "stdout",
     "output_type": "stream",
     "text": [
      "+----------+--------+------------------+--------+------+------+------------------+-----+------------------+----+\n|department|promoted|            review|projects|salary|tenure|      satisfaction|bonus|     avg_hrs_month|left|\n+----------+--------+------------------+--------+------+------+------------------+-----+------------------+----+\n|operations|       0|0.5775686596355698|       3|   low|   5.0|0.6267589740293295|    0| 180.8660696668475|  no|\n|operations|       0|0.7518996607137884|       3|medium|   6.0|0.4436789547574034|    0| 182.7081489616225|  no|\n|   support|       0|0.7225484486077993|       3|medium|   6.0|0.4468232240377964|    0| 184.4160840365652|  no|\n| logistics|       0|0.6751583086657402|       4|  high|   8.0|0.4401387461171622|    0| 188.7075447757313|  no|\n|     sales|       0| 0.676203174778892|       3|  high|   5.0|0.5776074456916579|    1|179.82108327312108|  no|\n|        IT|       0|0.6832063469509659|       2|medium|   5.0|0.5652518631559001|    1| 178.8418791506508|  no|\n|     admin|       0|0.6201580151095236|       4|  high|   5.0|0.6869511701465508|    0|181.14295615536423|  no|\n|   support|       0|0.4995672619674808|       4|medium|   7.0| 0.720451118181815|    1|184.97753752486025|  no|\n|     sales|       0| 0.652817953302604|       4|   low|   6.0|0.6786959372102828|    0| 183.6557898051497|  no|\n|     sales|       0| 0.642030504394421|       3|medium|   6.0|0.6233650093739659|    0| 181.8509998905145|  no|\n+----------+--------+------------------+--------+------+------+------------------+-----+------------------+----+\nonly showing top 10 rows\n\n"
     ]
    }
   ],
   "source": [
    "# Load the vehicles.csv file into a DataFrame.\n",
    "file_location = '/FileStore/tables/employee_churn_data.csv'\n",
    "df = spark.read.csv(file_location, inferSchema=True, header=True)\n",
    "\n",
    "# Display the DataFrame.\n",
    "df.show(10)"
   ]
  },
  {
   "cell_type": "code",
   "execution_count": 0,
   "metadata": {
    "application/vnd.databricks.v1+cell": {
     "cellMetadata": {
      "byteLimit": 2048000,
      "rowLimit": 10000
     },
     "inputWidgets": {},
     "nuid": "08347501-8216-48f3-8c94-a5285d4143d5",
     "showTitle": false,
     "title": ""
    }
   },
   "outputs": [
    {
     "output_type": "stream",
     "name": "stdout",
     "output_type": "stream",
     "text": [
      "+------+-----+\n|salary|count|\n+------+-----+\n|   low| 1381|\n|  high| 1548|\n|medium| 6611|\n+------+-----+\n\n"
     ]
    }
   ],
   "source": [
    "# Get the number of each salary range using a groupby. \n",
    "\n",
    "count_df = df.groupBy(\"salary\").count()\n",
    "count_df.show()"
   ]
  },
  {
   "cell_type": "code",
   "execution_count": 0,
   "metadata": {
    "application/vnd.databricks.v1+cell": {
     "cellMetadata": {
      "byteLimit": 2048000,
      "rowLimit": 10000
     },
     "inputWidgets": {},
     "nuid": "eb899d9b-5cf5-48ca-894d-eab8aeb3370c",
     "showTitle": false,
     "title": ""
    }
   },
   "outputs": [
    {
     "output_type": "display_data",
     "data": {
      "text/html": [
       "<style scoped>\n",
       "  .table-result-container {\n",
       "    max-height: 300px;\n",
       "    overflow: auto;\n",
       "  }\n",
       "  table, th, td {\n",
       "    border: 1px solid black;\n",
       "    border-collapse: collapse;\n",
       "  }\n",
       "  th, td {\n",
       "    padding: 5px;\n",
       "  }\n",
       "  th {\n",
       "    text-align: left;\n",
       "  }\n",
       "</style><div class='table-result-container'><table class='table-result'><thead style='background-color: white'><tr><th>salary</th><th>count</th></tr></thead><tbody><tr><td>low</td><td>1381</td></tr><tr><td>high</td><td>1548</td></tr><tr><td>medium</td><td>6611</td></tr></tbody></table></div>"
      ]
     },
     "metadata": {
      "application/vnd.databricks.v1+output": {
       "addedWidgets": {},
       "aggData": [],
       "aggError": "",
       "aggOverflow": false,
       "aggSchema": [],
       "aggSeriesLimitReached": false,
       "aggType": "",
       "arguments": {},
       "columnCustomDisplayInfos": {},
       "data": [
        [
         "low",
         1381
        ],
        [
         "high",
         1548
        ],
        [
         "medium",
         6611
        ]
       ],
       "datasetInfos": [],
       "dbfsResultPath": null,
       "isJsonSchema": true,
       "metadata": {},
       "overflow": false,
       "plotOptions": {
        "customPlotOptions": {},
        "displayType": "table",
        "pivotAggregation": null,
        "pivotColumns": null,
        "xColumns": null,
        "yColumns": null
       },
       "removedWidgets": [],
       "schema": [
        {
         "metadata": "{}",
         "name": "salary",
         "type": "\"string\""
        },
        {
         "metadata": "{}",
         "name": "count",
         "type": "\"long\""
        }
       ],
       "type": "table"
      }
     },
     "output_type": "display_data"
    },
    {
     "output_type": "display_data",
     "data": {
      "text/plain": [
       "Databricks visualization. Run in Databricks to view."
      ]
     },
     "metadata": {
      "application/vnd.databricks.v1.subcommand+json": {
       "baseErrorDetails": null,
       "bindings": {},
       "collapsed": false,
       "command": "%python\n__backend_agg_display_orig = display\n__backend_agg_dfs = []\ndef __backend_agg_display_new(df):\n    __backend_agg_df_modules = [\"pandas.core.frame\", \"databricks.koalas.frame\", \"pyspark.sql.dataframe\", \"pyspark.pandas.frame\", \"pyspark.sql.connect.dataframe\"]\n    if (type(df).__module__ in __backend_agg_df_modules and type(df).__name__ == 'DataFrame') or isinstance(df, list):\n        __backend_agg_dfs.append(df)\n\ndisplay = __backend_agg_display_new\n\ndef __backend_agg_user_code_fn():\n    import base64\n    exec(base64.standard_b64decode(\"IyBEaXNwbGF5IHRoZSBEYXRhRnJhbWUgYW5kIGNyZWF0ZSBhIGJhciBjaGFydC4KCmRpc3BsYXkoY291bnRfZGYp\").decode())\n\ntry:\n    # run user code\n    __backend_agg_user_code_fn()\n\n    #reset display function\n    display = __backend_agg_display_orig\n\n    if len(__backend_agg_dfs) > 0:\n        # create a temp view\n        if type(__backend_agg_dfs[0]).__module__ == \"databricks.koalas.frame\":\n            # koalas dataframe\n            __backend_agg_dfs[0].to_spark().createOrReplaceTempView(\"DatabricksView21c27b6\")\n        elif type(__backend_agg_dfs[0]).__module__ == \"pandas.core.frame\" or isinstance(__backend_agg_dfs[0], list):\n            # pandas dataframe\n            spark.createDataFrame(__backend_agg_dfs[0]).createOrReplaceTempView(\"DatabricksView21c27b6\")\n        else:\n            __backend_agg_dfs[0].createOrReplaceTempView(\"DatabricksView21c27b6\")\n        #run backend agg\n        display(spark.sql(\"\"\"WITH q AS (select * from DatabricksView21c27b6) SELECT `salary`,SUM(`count`) `column_4de46c855` FROM q GROUP BY `salary`\"\"\"))\n    else:\n        displayHTML(\"dataframe no longer exists. If you're using dataframe.display(), use display(dataframe) instead.\")\n\n\nfinally:\n    spark.sql(\"drop view if exists DatabricksView21c27b6\")\n    display = __backend_agg_display_orig\n    del __backend_agg_display_new\n    del __backend_agg_display_orig\n    del __backend_agg_dfs\n    del __backend_agg_user_code_fn\n\n",
       "commandTitle": "Visualization 1",
       "commandType": "auto",
       "commandVersion": 0,
       "commentThread": [],
       "commentsVisible": false,
       "contentSha256Hex": null,
       "customPlotOptions": {
        "redashChart": [
         {
          "key": "type",
          "value": "CHART"
         },
         {
          "key": "options",
          "value": {
           "alignYAxesAtZero": true,
           "coefficient": 1,
           "columnConfigurationMap": {
            "x": {
             "column": "salary",
             "id": "column_4de46c854"
            },
            "y": [
             {
              "column": "count",
              "id": "column_4de46c855",
              "transform": "SUM"
             }
            ]
           },
           "dateTimeFormat": "DD/MM/YYYY HH:mm",
           "direction": {
            "type": "counterclockwise"
           },
           "error_y": {
            "type": "data",
            "visible": true
           },
           "globalSeriesType": "column",
           "legend": {
            "traceorder": "normal"
           },
           "missingValuesAsZero": true,
           "numberFormat": "0,0.[00000]",
           "percentFormat": "0[.]00%",
           "series": {
            "error_y": {
             "type": "data",
             "visible": true
            },
            "stacking": null
           },
           "seriesOptions": {
            "column_4de46c855": {
             "name": "count",
             "yAxis": 0
            }
           },
           "showDataLabels": false,
           "sizemode": "diameter",
           "sortX": true,
           "sortY": true,
           "swappedAxes": true,
           "textFormat": "",
           "useAggregationsUi": true,
           "valuesOptions": {},
           "version": 2,
           "xAxis": {
            "labels": {
             "enabled": true
            },
            "type": "-"
           },
           "yAxis": [
            {
             "type": "-"
            },
            {
             "opposite": true,
             "type": "-"
            }
           ]
          }
         }
        ]
       },
       "datasetPreviewNameToCmdIdMap": {},
       "diffDeletes": [],
       "diffInserts": [],
       "displayType": "redashChart",
       "error": null,
       "errorDetails": null,
       "errorSummary": null,
       "errorTraceType": null,
       "finishTime": 0,
       "globalVars": {},
       "guid": "",
       "height": "auto",
       "hideCommandCode": false,
       "hideCommandResult": false,
       "iPythonMetadata": null,
       "inputWidgets": {},
       "isLockedInExamMode": false,
       "latestUser": "a user",
       "latestUserId": null,
       "listResultMetadata": null,
       "metadata": {
        "byteLimit": 2048000,
        "rowLimit": 10000
       },
       "nuid": "b0a178af-6950-4822-a87d-1c744942982b",
       "origId": 0,
       "parentHierarchy": [],
       "pivotAggregation": null,
       "pivotColumns": null,
       "position": 5.0,
       "resultDbfsErrorMessage": null,
       "resultDbfsStatus": "INLINED_IN_TREE",
       "results": null,
       "showCommandTitle": false,
       "startTime": 0,
       "state": "finished",
       "streamStates": {},
       "subcommandOptions": {
        "queryPlan": {
         "groups": [
          {
           "column": "salary",
           "type": "column"
          }
         ],
         "selects": [
          {
           "column": "salary",
           "type": "column"
          },
          {
           "alias": "column_4de46c855",
           "args": [
            {
             "column": "count",
             "type": "column"
            }
           ],
           "function": "SUM",
           "type": "function"
          }
         ]
        }
       },
       "submitTime": 0,
       "subtype": "tableResultSubCmd.visualization",
       "tableResultIndex": 0,
       "useConsistentColors": false,
       "version": "CommandV1",
       "width": "auto",
       "workflows": [],
       "xColumns": null,
       "yColumns": null
      }
     },
     "output_type": "display_data"
    }
   ],
   "source": [
    "# Display the DataFrame and create a bar chart.\n",
    "\n",
    "display(count_df)"
   ]
  },
  {
   "cell_type": "code",
   "execution_count": 0,
   "metadata": {
    "application/vnd.databricks.v1+cell": {
     "cellMetadata": {
      "byteLimit": 2048000,
      "rowLimit": 10000
     },
     "inputWidgets": {},
     "nuid": "240848f3-bbbd-4938-a755-f17fee557b6f",
     "showTitle": false,
     "title": ""
    }
   },
   "outputs": [],
   "source": [
    "# Create a temporary view of the DataFrame\n",
    "df.createOrReplaceTempView(\"employee_data\")\n"
   ]
  },
  {
   "cell_type": "code",
   "execution_count": 0,
   "metadata": {
    "application/vnd.databricks.v1+cell": {
     "cellMetadata": {
      "byteLimit": 2048000,
      "implicitDf": true,
      "rowLimit": 10000
     },
     "inputWidgets": {},
     "nuid": "ee69c02a-3485-4f89-8e71-81e93232c0d8",
     "showTitle": false,
     "title": ""
    }
   },
   "outputs": [
    {
     "output_type": "display_data",
     "data": {
      "text/html": [
       "<style scoped>\n",
       "  .table-result-container {\n",
       "    max-height: 300px;\n",
       "    overflow: auto;\n",
       "  }\n",
       "  table, th, td {\n",
       "    border: 1px solid black;\n",
       "    border-collapse: collapse;\n",
       "  }\n",
       "  th, td {\n",
       "    padding: 5px;\n",
       "  }\n",
       "  th {\n",
       "    text-align: left;\n",
       "  }\n",
       "</style><div class='table-result-container'><table class='table-result'><thead style='background-color: white'><tr><th>salary</th><th>num_employees_left</th></tr></thead><tbody><tr><td>low</td><td>391</td></tr><tr><td>high</td><td>442</td></tr><tr><td>medium</td><td>1951</td></tr></tbody></table></div>"
      ]
     },
     "metadata": {
      "application/vnd.databricks.v1+output": {
       "addedWidgets": {},
       "aggData": [],
       "aggError": "",
       "aggOverflow": false,
       "aggSchema": [],
       "aggSeriesLimitReached": false,
       "aggType": "",
       "arguments": {},
       "columnCustomDisplayInfos": {},
       "data": [
        [
         "low",
         391
        ],
        [
         "high",
         442
        ],
        [
         "medium",
         1951
        ]
       ],
       "datasetInfos": [],
       "dbfsResultPath": null,
       "isJsonSchema": true,
       "metadata": {},
       "overflow": false,
       "plotOptions": {
        "customPlotOptions": {},
        "displayType": "table",
        "pivotAggregation": null,
        "pivotColumns": null,
        "xColumns": null,
        "yColumns": null
       },
       "removedWidgets": [],
       "schema": [
        {
         "metadata": "{}",
         "name": "salary",
         "type": "\"string\""
        },
        {
         "metadata": "{}",
         "name": "num_employees_left",
         "type": "\"long\""
        }
       ],
       "type": "table"
      }
     },
     "output_type": "display_data"
    },
    {
     "output_type": "display_data",
     "data": {
      "text/plain": [
       "Databricks visualization. Run in Databricks to view."
      ]
     },
     "metadata": {
      "application/vnd.databricks.v1.subcommand+json": {
       "baseErrorDetails": null,
       "bindings": {},
       "collapsed": false,
       "command": "%sql WITH q AS (SELECT salary, COUNT(*) AS num_employees_left\nFROM employee_data\nWHERE left = 'yes'\nGROUP BY salary) SELECT `salary`,SUM(`num_employees_left`) `column_de8b33f62` FROM q GROUP BY `salary`",
       "commandTitle": "Visualization 1",
       "commandType": "auto",
       "commandVersion": 0,
       "commentThread": [],
       "commentsVisible": false,
       "contentSha256Hex": null,
       "customPlotOptions": {
        "redashChart": [
         {
          "key": "type",
          "value": "CHART"
         },
         {
          "key": "options",
          "value": {
           "alignYAxesAtZero": true,
           "coefficient": 1,
           "columnConfigurationMap": {
            "x": {
             "column": "salary",
             "id": "column_de8b33f61"
            },
            "y": [
             {
              "column": "num_employees_left",
              "id": "column_de8b33f62",
              "transform": "SUM"
             }
            ]
           },
           "dateTimeFormat": "DD/MM/YYYY HH:mm",
           "direction": {
            "type": "counterclockwise"
           },
           "error_y": {
            "type": "data",
            "visible": true
           },
           "globalSeriesType": "column",
           "legend": {
            "traceorder": "normal"
           },
           "missingValuesAsZero": true,
           "numberFormat": "0,0.[00000]",
           "percentFormat": "0[.]00%",
           "series": {
            "error_y": {
             "type": "data",
             "visible": true
            },
            "stacking": null
           },
           "seriesOptions": {
            "column_de8b33f62": {
             "name": "num_employees_left",
             "yAxis": 0
            }
           },
           "showDataLabels": false,
           "sizemode": "diameter",
           "sortX": true,
           "sortY": true,
           "swappedAxes": true,
           "textFormat": "",
           "useAggregationsUi": true,
           "valuesOptions": {},
           "version": 2,
           "xAxis": {
            "labels": {
             "enabled": true
            },
            "type": "-"
           },
           "yAxis": [
            {
             "type": "-"
            },
            {
             "opposite": true,
             "type": "-"
            }
           ]
          }
         }
        ]
       },
       "datasetPreviewNameToCmdIdMap": {},
       "diffDeletes": [],
       "diffInserts": [],
       "displayType": "redashChart",
       "error": null,
       "errorDetails": null,
       "errorSummary": null,
       "errorTraceType": null,
       "finishTime": 0,
       "globalVars": {},
       "guid": "",
       "height": "auto",
       "hideCommandCode": false,
       "hideCommandResult": false,
       "iPythonMetadata": null,
       "inputWidgets": {},
       "isLockedInExamMode": false,
       "latestUser": "a user",
       "latestUserId": null,
       "listResultMetadata": null,
       "metadata": {
        "byteLimit": 2048000,
        "implicitDf": true,
        "rowLimit": 10000
       },
       "nuid": "314467e2-d853-4f80-9aba-98bdc5d310e8",
       "origId": 0,
       "parentHierarchy": [],
       "pivotAggregation": null,
       "pivotColumns": null,
       "position": 7.0,
       "resultDbfsErrorMessage": null,
       "resultDbfsStatus": "INLINED_IN_TREE",
       "results": null,
       "showCommandTitle": false,
       "startTime": 0,
       "state": "finished",
       "streamStates": {},
       "subcommandOptions": {
        "queryPlan": {
         "groups": [
          {
           "column": "salary",
           "type": "column"
          }
         ],
         "selects": [
          {
           "column": "salary",
           "type": "column"
          },
          {
           "alias": "column_de8b33f62",
           "args": [
            {
             "column": "num_employees_left",
             "type": "column"
            }
           ],
           "function": "SUM",
           "type": "function"
          }
         ]
        }
       },
       "submitTime": 0,
       "subtype": "tableResultSubCmd.visualization",
       "tableResultIndex": 0,
       "useConsistentColors": false,
       "version": "CommandV1",
       "width": "auto",
       "workflows": [],
       "xColumns": null,
       "yColumns": null
      }
     },
     "output_type": "display_data"
    }
   ],
   "source": [
    "%sql\n",
    "--  Query that shows how many employees left the company, acoording to their salary.\n",
    "\n",
    "SELECT salary, COUNT(*) AS num_employees_left\n",
    "FROM employee_data\n",
    "WHERE left = 'yes'\n",
    "GROUP BY salary;"
   ]
  },
  {
   "cell_type": "code",
   "execution_count": 0,
   "metadata": {
    "application/vnd.databricks.v1+cell": {
     "cellMetadata": {
      "byteLimit": 2048000,
      "implicitDf": true,
      "rowLimit": 10000
     },
     "inputWidgets": {},
     "nuid": "c1572fb0-0bb4-46a5-966a-58c27bfdc1a6",
     "showTitle": false,
     "title": ""
    }
   },
   "outputs": [
    {
     "output_type": "display_data",
     "data": {
      "text/html": [
       "<style scoped>\n",
       "  .table-result-container {\n",
       "    max-height: 300px;\n",
       "    overflow: auto;\n",
       "  }\n",
       "  table, th, td {\n",
       "    border: 1px solid black;\n",
       "    border-collapse: collapse;\n",
       "  }\n",
       "  th, td {\n",
       "    padding: 5px;\n",
       "  }\n",
       "  th {\n",
       "    text-align: left;\n",
       "  }\n",
       "</style><div class='table-result-container'><table class='table-result'><thead style='background-color: white'><tr><th>salary</th><th>min_hours_month</th><th>max_hours_month</th><th>avg_hours_month</th></tr></thead><tbody><tr><td>low</td><td>174.1457191627814</td><td>192.0486089060469</td><td>184.80249472873956</td></tr><tr><td>high</td><td>173.02771625356567</td><td>193.2550342661412</td><td>184.6563604171455</td></tr><tr><td>medium</td><td>171.37406048199938</td><td>192.9692229634878</td><td>184.7174994603533</td></tr></tbody></table></div>"
      ]
     },
     "metadata": {
      "application/vnd.databricks.v1+output": {
       "addedWidgets": {},
       "aggData": [],
       "aggError": "",
       "aggOverflow": false,
       "aggSchema": [],
       "aggSeriesLimitReached": false,
       "aggType": "",
       "arguments": {},
       "columnCustomDisplayInfos": {},
       "data": [
        [
         "low",
         174.1457191627814,
         192.0486089060469,
         184.80249472873956
        ],
        [
         "high",
         173.02771625356567,
         193.2550342661412,
         184.6563604171455
        ],
        [
         "medium",
         171.37406048199938,
         192.9692229634878,
         184.7174994603533
        ]
       ],
       "datasetInfos": [],
       "dbfsResultPath": null,
       "isJsonSchema": true,
       "metadata": {},
       "overflow": false,
       "plotOptions": {
        "customPlotOptions": {},
        "displayType": "table",
        "pivotAggregation": null,
        "pivotColumns": null,
        "xColumns": null,
        "yColumns": null
       },
       "removedWidgets": [],
       "schema": [
        {
         "metadata": "{}",
         "name": "salary",
         "type": "\"string\""
        },
        {
         "metadata": "{}",
         "name": "min_hours_month",
         "type": "\"double\""
        },
        {
         "metadata": "{}",
         "name": "max_hours_month",
         "type": "\"double\""
        },
        {
         "metadata": "{}",
         "name": "avg_hours_month",
         "type": "\"double\""
        }
       ],
       "type": "table"
      }
     },
     "output_type": "display_data"
    }
   ],
   "source": [
    "%sql\n",
    "-- Query to see if work shifts are a factor why employees left the company \n",
    "\n",
    "SELECT \n",
    "    salary,\n",
    "    MIN(avg_hrs_month) AS min_hours_month,\n",
    "    MAX(avg_hrs_month) AS max_hours_month,\n",
    "    AVG(avg_hrs_month) AS avg_hours_month\n",
    "FROM \n",
    "    employee_data\n",
    "WHERE left = 'yes' \n",
    "GROUP BY salary;\n"
   ]
  },
  {
   "cell_type": "code",
   "execution_count": 0,
   "metadata": {
    "application/vnd.databricks.v1+cell": {
     "cellMetadata": {
      "byteLimit": 2048000,
      "implicitDf": true,
      "rowLimit": 10000
     },
     "inputWidgets": {},
     "nuid": "2aaa9cad-ccfe-41cd-bc52-daa21bedb422",
     "showTitle": false,
     "title": ""
    }
   },
   "outputs": [
    {
     "output_type": "display_data",
     "data": {
      "text/html": [
       "<style scoped>\n",
       "  .table-result-container {\n",
       "    max-height: 300px;\n",
       "    overflow: auto;\n",
       "  }\n",
       "  table, th, td {\n",
       "    border: 1px solid black;\n",
       "    border-collapse: collapse;\n",
       "  }\n",
       "  th, td {\n",
       "    padding: 5px;\n",
       "  }\n",
       "  th {\n",
       "    text-align: left;\n",
       "  }\n",
       "</style><div class='table-result-container'><table class='table-result'><thead style='background-color: white'><tr><th>salary</th><th>num_employees_left</th></tr></thead><tbody><tr><td>low</td><td>4</td></tr><tr><td>high</td><td>9</td></tr><tr><td>medium</td><td>44</td></tr></tbody></table></div>"
      ]
     },
     "metadata": {
      "application/vnd.databricks.v1+output": {
       "addedWidgets": {},
       "aggData": [],
       "aggError": "",
       "aggOverflow": false,
       "aggSchema": [],
       "aggSeriesLimitReached": false,
       "aggType": "",
       "arguments": {},
       "columnCustomDisplayInfos": {},
       "data": [
        [
         "low",
         4
        ],
        [
         "high",
         9
        ],
        [
         "medium",
         44
        ]
       ],
       "datasetInfos": [],
       "dbfsResultPath": null,
       "isJsonSchema": true,
       "metadata": {},
       "overflow": false,
       "plotOptions": {
        "customPlotOptions": {},
        "displayType": "table",
        "pivotAggregation": null,
        "pivotColumns": null,
        "xColumns": null,
        "yColumns": null
       },
       "removedWidgets": [],
       "schema": [
        {
         "metadata": "{}",
         "name": "salary",
         "type": "\"string\""
        },
        {
         "metadata": "{}",
         "name": "num_employees_left",
         "type": "\"long\""
        }
       ],
       "type": "table"
      }
     },
     "output_type": "display_data"
    }
   ],
   "source": [
    "%sql\n",
    "-- Query to see how many employees who were promoted left the company. \n",
    "\n",
    "SELECT salary, COUNT(*) AS num_employees_left\n",
    "FROM employee_data\n",
    "WHERE left = 'yes' AND promoted = '1'\n",
    "GROUP BY salary;"
   ]
  },
  {
   "cell_type": "code",
   "execution_count": 0,
   "metadata": {
    "application/vnd.databricks.v1+cell": {
     "cellMetadata": {
      "byteLimit": 2048000,
      "implicitDf": true,
      "rowLimit": 10000
     },
     "inputWidgets": {},
     "nuid": "dcb5dbbd-a962-4c2c-9e5c-fcf67fc14c0d",
     "showTitle": false,
     "title": ""
    }
   },
   "outputs": [
    {
     "output_type": "display_data",
     "data": {
      "text/html": [
       "<style scoped>\n",
       "  .table-result-container {\n",
       "    max-height: 300px;\n",
       "    overflow: auto;\n",
       "  }\n",
       "  table, th, td {\n",
       "    border: 1px solid black;\n",
       "    border-collapse: collapse;\n",
       "  }\n",
       "  th, td {\n",
       "    padding: 5px;\n",
       "  }\n",
       "  th {\n",
       "    text-align: left;\n",
       "  }\n",
       "</style><div class='table-result-container'><table class='table-result'><thead style='background-color: white'><tr><th>salary</th><th>num_employees_left</th></tr></thead><tbody><tr><td>low</td><td>387</td></tr><tr><td>high</td><td>433</td></tr><tr><td>medium</td><td>1907</td></tr></tbody></table></div>"
      ]
     },
     "metadata": {
      "application/vnd.databricks.v1+output": {
       "addedWidgets": {},
       "aggData": [],
       "aggError": "",
       "aggOverflow": false,
       "aggSchema": [],
       "aggSeriesLimitReached": false,
       "aggType": "",
       "arguments": {},
       "columnCustomDisplayInfos": {},
       "data": [
        [
         "low",
         387
        ],
        [
         "high",
         433
        ],
        [
         "medium",
         1907
        ]
       ],
       "datasetInfos": [],
       "dbfsResultPath": null,
       "isJsonSchema": true,
       "metadata": {},
       "overflow": false,
       "plotOptions": {
        "customPlotOptions": {},
        "displayType": "table",
        "pivotAggregation": null,
        "pivotColumns": null,
        "xColumns": null,
        "yColumns": null
       },
       "removedWidgets": [],
       "schema": [
        {
         "metadata": "{}",
         "name": "salary",
         "type": "\"string\""
        },
        {
         "metadata": "{}",
         "name": "num_employees_left",
         "type": "\"long\""
        }
       ],
       "type": "table"
      }
     },
     "output_type": "display_data"
    }
   ],
   "source": [
    "%sql\n",
    "-- Query to see how many employees  who weren't promoted left the company. \n",
    "\n",
    "SELECT salary, COUNT(*) AS num_employees_left\n",
    "FROM employee_data\n",
    "WHERE left = 'yes' AND promoted = '0'\n",
    "GROUP BY salary;"
   ]
  },
  {
   "cell_type": "code",
   "execution_count": 0,
   "metadata": {
    "application/vnd.databricks.v1+cell": {
     "cellMetadata": {
      "byteLimit": 2048000,
      "implicitDf": true,
      "rowLimit": 10000
     },
     "inputWidgets": {},
     "nuid": "79417da8-5827-4d8f-a9a6-607f007089fa",
     "showTitle": false,
     "title": ""
    }
   },
   "outputs": [
    {
     "output_type": "display_data",
     "data": {
      "text/html": [
       "<style scoped>\n",
       "  .table-result-container {\n",
       "    max-height: 300px;\n",
       "    overflow: auto;\n",
       "  }\n",
       "  table, th, td {\n",
       "    border: 1px solid black;\n",
       "    border-collapse: collapse;\n",
       "  }\n",
       "  th, td {\n",
       "    padding: 5px;\n",
       "  }\n",
       "  th {\n",
       "    text-align: left;\n",
       "  }\n",
       "</style><div class='table-result-container'><table class='table-result'><thead style='background-color: white'><tr><th>salary</th><th>avg_review</th><th>avg_satisfaction</th></tr></thead><tbody><tr><td>low</td><td>0.712857083566572</td><td>0.518096435607686</td></tr><tr><td>high</td><td>0.721680111999996</td><td>0.43421349391398767</td></tr><tr><td>medium</td><td>0.7075340150931049</td><td>0.46680270146456576</td></tr></tbody></table></div>"
      ]
     },
     "metadata": {
      "application/vnd.databricks.v1+output": {
       "addedWidgets": {},
       "aggData": [],
       "aggError": "",
       "aggOverflow": false,
       "aggSchema": [],
       "aggSeriesLimitReached": false,
       "aggType": "",
       "arguments": {},
       "columnCustomDisplayInfos": {},
       "data": [
        [
         "low",
         0.712857083566572,
         0.518096435607686
        ],
        [
         "high",
         0.721680111999996,
         0.43421349391398767
        ],
        [
         "medium",
         0.7075340150931049,
         0.46680270146456576
        ]
       ],
       "datasetInfos": [],
       "dbfsResultPath": null,
       "isJsonSchema": true,
       "metadata": {},
       "overflow": false,
       "plotOptions": {
        "customPlotOptions": {},
        "displayType": "table",
        "pivotAggregation": null,
        "pivotColumns": null,
        "xColumns": null,
        "yColumns": null
       },
       "removedWidgets": [],
       "schema": [
        {
         "metadata": "{}",
         "name": "salary",
         "type": "\"string\""
        },
        {
         "metadata": "{}",
         "name": "avg_review",
         "type": "\"double\""
        },
        {
         "metadata": "{}",
         "name": "avg_satisfaction",
         "type": "\"double\""
        }
       ],
       "type": "table"
      }
     },
     "output_type": "display_data"
    }
   ],
   "source": [
    "%sql\n",
    "-- Query to see the average reviews and satisfaction of the employees who didn't left the company, gruping by \"salary\"\n",
    " \n",
    " SELECT \n",
    "    salary,\n",
    "    AVG(review) AS avg_review,\n",
    "    AVG(satisfaction) AS avg_satisfaction\n",
    "FROM \n",
    "    employee_data\n",
    "WHERE \n",
    "    left = 'yes' AND promoted = '1'\n",
    "GROUP BY \n",
    "    salary;\n"
   ]
  },
  {
   "cell_type": "code",
   "execution_count": 0,
   "metadata": {
    "application/vnd.databricks.v1+cell": {
     "cellMetadata": {
      "byteLimit": 2048000,
      "implicitDf": true,
      "rowLimit": 10000
     },
     "inputWidgets": {},
     "nuid": "34d4d07b-f61b-474b-8fa1-c2b05e67599d",
     "showTitle": false,
     "title": ""
    }
   },
   "outputs": [
    {
     "output_type": "display_data",
     "data": {
      "text/html": [
       "<style scoped>\n",
       "  .table-result-container {\n",
       "    max-height: 300px;\n",
       "    overflow: auto;\n",
       "  }\n",
       "  table, th, td {\n",
       "    border: 1px solid black;\n",
       "    border-collapse: collapse;\n",
       "  }\n",
       "  th, td {\n",
       "    padding: 5px;\n",
       "  }\n",
       "  th {\n",
       "    text-align: left;\n",
       "  }\n",
       "</style><div class='table-result-container'><table class='table-result'><thead style='background-color: white'><tr><th>salary</th><th>avg_review</th><th>avg_satisfaction</th></tr></thead><tbody><tr><td>low</td><td>0.6952636163993403</td><td>0.5047092200111343</td></tr><tr><td>high</td><td>0.6950327933509489</td><td>0.5039816541263762</td></tr><tr><td>medium</td><td>0.690489303460667</td><td>0.5024542207022337</td></tr></tbody></table></div>"
      ]
     },
     "metadata": {
      "application/vnd.databricks.v1+output": {
       "addedWidgets": {},
       "aggData": [],
       "aggError": "",
       "aggOverflow": false,
       "aggSchema": [],
       "aggSeriesLimitReached": false,
       "aggType": "",
       "arguments": {},
       "columnCustomDisplayInfos": {},
       "data": [
        [
         "low",
         0.6952636163993403,
         0.5047092200111343
        ],
        [
         "high",
         0.6950327933509489,
         0.5039816541263762
        ],
        [
         "medium",
         0.690489303460667,
         0.5024542207022337
        ]
       ],
       "datasetInfos": [],
       "dbfsResultPath": null,
       "isJsonSchema": true,
       "metadata": {},
       "overflow": false,
       "plotOptions": {
        "customPlotOptions": {},
        "displayType": "table",
        "pivotAggregation": null,
        "pivotColumns": null,
        "xColumns": null,
        "yColumns": null
       },
       "removedWidgets": [],
       "schema": [
        {
         "metadata": "{}",
         "name": "salary",
         "type": "\"string\""
        },
        {
         "metadata": "{}",
         "name": "avg_review",
         "type": "\"double\""
        },
        {
         "metadata": "{}",
         "name": "avg_satisfaction",
         "type": "\"double\""
        }
       ],
       "type": "table"
      }
     },
     "output_type": "display_data"
    }
   ],
   "source": [
    "%sql\n",
    "-- Query to see the average reviews and satisfaction of the employees who left the company, gruping by \"salary\"\n",
    " \n",
    " SELECT \n",
    "    salary,\n",
    "    AVG(review) AS avg_review,\n",
    "    AVG(satisfaction) AS avg_satisfaction\n",
    "FROM \n",
    "    employee_data\n",
    "WHERE \n",
    "    left = 'yes' AND promoted = '0'\n",
    "GROUP BY \n",
    "    salary;"
   ]
  },
  {
   "cell_type": "code",
   "execution_count": 0,
   "metadata": {
    "application/vnd.databricks.v1+cell": {
     "cellMetadata": {
      "byteLimit": 2048000,
      "implicitDf": true,
      "rowLimit": 10000
     },
     "inputWidgets": {},
     "nuid": "303e65e4-12fb-4442-b96e-3f001072043e",
     "showTitle": false,
     "title": ""
    }
   },
   "outputs": [
    {
     "output_type": "display_data",
     "data": {
      "text/html": [
       "<style scoped>\n",
       "  .table-result-container {\n",
       "    max-height: 300px;\n",
       "    overflow: auto;\n",
       "  }\n",
       "  table, th, td {\n",
       "    border: 1px solid black;\n",
       "    border-collapse: collapse;\n",
       "  }\n",
       "  th, td {\n",
       "    padding: 5px;\n",
       "  }\n",
       "  th {\n",
       "    text-align: left;\n",
       "  }\n",
       "</style><div class='table-result-container'><table class='table-result'><thead style='background-color: white'><tr><th>department</th><th>num_employees_left</th><th>employees_left_YES_promoted</th><th>employees_left_NO_promoted</th><th>total_employees</th></tr></thead><tbody><tr><td>sales</td><td>537</td><td>14</td><td>523</td><td>1883</td></tr><tr><td>retail</td><td>471</td><td>12</td><td>459</td><td>1541</td></tr><tr><td>engineering</td><td>437</td><td>6</td><td>431</td><td>1516</td></tr><tr><td>operations</td><td>436</td><td>6</td><td>430</td><td>1522</td></tr><tr><td>marketing</td><td>243</td><td>5</td><td>238</td><td>802</td></tr><tr><td>support</td><td>212</td><td>4</td><td>208</td><td>735</td></tr><tr><td>admin</td><td>119</td><td>5</td><td>114</td><td>423</td></tr><tr><td>logistics</td><td>111</td><td>1</td><td>110</td><td>360</td></tr><tr><td>IT</td><td>110</td><td>1</td><td>109</td><td>356</td></tr><tr><td>finance</td><td>108</td><td>3</td><td>105</td><td>402</td></tr></tbody></table></div>"
      ]
     },
     "metadata": {
      "application/vnd.databricks.v1+output": {
       "addedWidgets": {},
       "aggData": [],
       "aggError": "",
       "aggOverflow": false,
       "aggSchema": [],
       "aggSeriesLimitReached": false,
       "aggType": "",
       "arguments": {},
       "columnCustomDisplayInfos": {},
       "data": [
        [
         "sales",
         537,
         14,
         523,
         1883
        ],
        [
         "retail",
         471,
         12,
         459,
         1541
        ],
        [
         "engineering",
         437,
         6,
         431,
         1516
        ],
        [
         "operations",
         436,
         6,
         430,
         1522
        ],
        [
         "marketing",
         243,
         5,
         238,
         802
        ],
        [
         "support",
         212,
         4,
         208,
         735
        ],
        [
         "admin",
         119,
         5,
         114,
         423
        ],
        [
         "logistics",
         111,
         1,
         110,
         360
        ],
        [
         "IT",
         110,
         1,
         109,
         356
        ],
        [
         "finance",
         108,
         3,
         105,
         402
        ]
       ],
       "datasetInfos": [],
       "dbfsResultPath": null,
       "isJsonSchema": true,
       "metadata": {},
       "overflow": false,
       "plotOptions": {
        "customPlotOptions": {},
        "displayType": "table",
        "pivotAggregation": null,
        "pivotColumns": null,
        "xColumns": null,
        "yColumns": null
       },
       "removedWidgets": [],
       "schema": [
        {
         "metadata": "{}",
         "name": "department",
         "type": "\"string\""
        },
        {
         "metadata": "{}",
         "name": "num_employees_left",
         "type": "\"long\""
        },
        {
         "metadata": "{}",
         "name": "employees_left_YES_promoted",
         "type": "\"long\""
        },
        {
         "metadata": "{}",
         "name": "employees_left_NO_promoted",
         "type": "\"long\""
        },
        {
         "metadata": "{}",
         "name": "total_employees",
         "type": "\"long\""
        }
       ],
       "type": "table"
      }
     },
     "output_type": "display_data"
    }
   ],
   "source": [
    "%sql\n",
    "-- Query to see how many employees who left the company were from which department and whether or not they were promoted before leaving the company\n",
    "\n",
    "SELECT \n",
    "    department,\n",
    "    SUM(CASE WHEN left = 'yes' THEN 1 ELSE 0 END) AS num_employees_left,\n",
    "    SUM(CASE WHEN left = 'yes' AND promoted = 1 THEN 1 ELSE 0 END) AS employees_left_YES_promoted,\n",
    "    SUM(CASE WHEN left = 'yes' AND promoted = 0 THEN 1 ELSE 0 END) AS employees_left_NO_promoted,\n",
    "    COUNT(*) AS total_employees\n",
    "FROM employee_data\n",
    "GROUP BY department\n",
    "ORDER BY num_employees_left DESC;\n",
    "\n",
    "\n"
   ]
  },
  {
   "cell_type": "code",
   "execution_count": 0,
   "metadata": {
    "application/vnd.databricks.v1+cell": {
     "cellMetadata": {
      "byteLimit": 2048000,
      "implicitDf": true,
      "rowLimit": 10000
     },
     "inputWidgets": {},
     "nuid": "34680371-335e-4739-81b5-33733dc21a4c",
     "showTitle": false,
     "title": ""
    }
   },
   "outputs": [
    {
     "output_type": "display_data",
     "data": {
      "text/html": [
       "<style scoped>\n",
       "  .table-result-container {\n",
       "    max-height: 300px;\n",
       "    overflow: auto;\n",
       "  }\n",
       "  table, th, td {\n",
       "    border: 1px solid black;\n",
       "    border-collapse: collapse;\n",
       "  }\n",
       "  th, td {\n",
       "    padding: 5px;\n",
       "  }\n",
       "  th {\n",
       "    text-align: left;\n",
       "  }\n",
       "</style><div class='table-result-container'><table class='table-result'><thead style='background-color: white'><tr><th>years_in_the_company</th><th>num_employees_left</th><th>employees_left_YES_promoted</th><th>employees_left_NO_promoted</th></tr></thead><tbody><tr><td>2.0</td><td>2</td><td>0</td><td>2</td></tr><tr><td>3.0</td><td>30</td><td>1</td><td>29</td></tr><tr><td>4.0</td><td>186</td><td>4</td><td>182</td></tr><tr><td>5.0</td><td>428</td><td>11</td><td>417</td></tr><tr><td>6.0</td><td>478</td><td>7</td><td>471</td></tr><tr><td>7.0</td><td>823</td><td>17</td><td>806</td></tr><tr><td>8.0</td><td>823</td><td>17</td><td>806</td></tr><tr><td>9.0</td><td>14</td><td>0</td><td>14</td></tr><tr><td>10.0</td><td>0</td><td>0</td><td>0</td></tr><tr><td>11.0</td><td>0</td><td>0</td><td>0</td></tr><tr><td>12.0</td><td>0</td><td>0</td><td>0</td></tr></tbody></table></div>"
      ]
     },
     "metadata": {
      "application/vnd.databricks.v1+output": {
       "addedWidgets": {},
       "aggData": [],
       "aggError": "",
       "aggOverflow": false,
       "aggSchema": [],
       "aggSeriesLimitReached": false,
       "aggType": "",
       "arguments": {},
       "columnCustomDisplayInfos": {},
       "data": [
        [
         2.0,
         2,
         0,
         2
        ],
        [
         3.0,
         30,
         1,
         29
        ],
        [
         4.0,
         186,
         4,
         182
        ],
        [
         5.0,
         428,
         11,
         417
        ],
        [
         6.0,
         478,
         7,
         471
        ],
        [
         7.0,
         823,
         17,
         806
        ],
        [
         8.0,
         823,
         17,
         806
        ],
        [
         9.0,
         14,
         0,
         14
        ],
        [
         10.0,
         0,
         0,
         0
        ],
        [
         11.0,
         0,
         0,
         0
        ],
        [
         12.0,
         0,
         0,
         0
        ]
       ],
       "datasetInfos": [],
       "dbfsResultPath": null,
       "isJsonSchema": true,
       "metadata": {},
       "overflow": false,
       "plotOptions": {
        "customPlotOptions": {},
        "displayType": "table",
        "pivotAggregation": null,
        "pivotColumns": null,
        "xColumns": null,
        "yColumns": null
       },
       "removedWidgets": [],
       "schema": [
        {
         "metadata": "{}",
         "name": "years_in_the_company",
         "type": "\"double\""
        },
        {
         "metadata": "{}",
         "name": "num_employees_left",
         "type": "\"long\""
        },
        {
         "metadata": "{}",
         "name": "employees_left_YES_promoted",
         "type": "\"long\""
        },
        {
         "metadata": "{}",
         "name": "employees_left_NO_promoted",
         "type": "\"long\""
        }
       ],
       "type": "table"
      }
     },
     "output_type": "display_data"
    },
    {
     "output_type": "display_data",
     "data": {
      "text/plain": [
       "Databricks visualization. Run in Databricks to view."
      ]
     },
     "metadata": {
      "application/vnd.databricks.v1.subcommand+json": {
       "baseErrorDetails": null,
       "bindings": {},
       "collapsed": false,
       "command": "%sql WITH q AS (SELECT \n    tenure AS years_in_the_company,\n    SUM(CASE WHEN left = 'yes' THEN 1 ELSE 0 END) AS num_employees_left,\n    SUM(CASE WHEN left = 'yes' AND promoted = 1 THEN 1 ELSE 0 END) AS employees_left_YES_promoted,\n    SUM(CASE WHEN left = 'yes' AND promoted = 0 THEN 1 ELSE 0 END) AS employees_left_NO_promoted\nFROM \n    employee_data\nGROUP BY \n    tenure\nORDER BY \n    tenure) SELECT `years_in_the_company`,SUM(`employees_left_YES_promoted`) `column_c49342a43`,SUM(`employees_left_NO_promoted`) `column_c49342a46` FROM q GROUP BY `years_in_the_company`",
       "commandTitle": "Visualization 1",
       "commandType": "auto",
       "commandVersion": 0,
       "commentThread": [],
       "commentsVisible": false,
       "contentSha256Hex": null,
       "customPlotOptions": {
        "redashChart": [
         {
          "key": "type",
          "value": "CHART"
         },
         {
          "key": "options",
          "value": {
           "alignYAxesAtZero": true,
           "coefficient": 1,
           "columnConfigurationMap": {
            "x": {
             "column": "years_in_the_company",
             "id": "column_c49342a41"
            },
            "y": [
             {
              "column": "employees_left_YES_promoted",
              "id": "column_c49342a43",
              "transform": "SUM"
             },
             {
              "column": "employees_left_NO_promoted",
              "id": "column_c49342a46",
              "transform": "SUM"
             }
            ]
           },
           "dateTimeFormat": "DD/MM/YYYY HH:mm",
           "direction": {
            "type": "counterclockwise"
           },
           "error_y": {
            "type": "data",
            "visible": true
           },
           "globalSeriesType": "column",
           "isAggregationOn": true,
           "legend": {
            "traceorder": "normal"
           },
           "missingValuesAsZero": true,
           "numberFormat": "0,0.[00000]",
           "percentFormat": "0[.]00%",
           "series": {
            "error_y": {
             "type": "data",
             "visible": true
            },
            "stacking": null
           },
           "seriesOptions": {
            "column_c49342a43": {
             "type": "column",
             "yAxis": 0
            },
            "column_c49342a46": {
             "type": "column",
             "yAxis": 0
            }
           },
           "showDataLabels": true,
           "sizemode": "diameter",
           "sortX": true,
           "sortY": true,
           "swappedAxes": true,
           "textFormat": "",
           "useAggregationsUi": true,
           "valuesOptions": {},
           "version": 2,
           "xAxis": {
            "labels": {
             "enabled": true
            },
            "title": {
             "text": "Years Working in the Company"
            },
            "type": "-"
           },
           "yAxis": [
            {
             "title": {
              "text": "Number of Employees who Left the Company"
             },
             "type": "-"
            },
            {
             "opposite": true,
             "type": "-"
            }
           ]
          }
         }
        ]
       },
       "datasetPreviewNameToCmdIdMap": {},
       "diffDeletes": [],
       "diffInserts": [],
       "displayType": "redashChart",
       "error": null,
       "errorDetails": null,
       "errorSummary": null,
       "errorTraceType": null,
       "finishTime": 0,
       "globalVars": {},
       "guid": "",
       "height": "auto",
       "hideCommandCode": false,
       "hideCommandResult": false,
       "iPythonMetadata": null,
       "inputWidgets": {},
       "isLockedInExamMode": false,
       "latestUser": "a user",
       "latestUserId": null,
       "listResultMetadata": null,
       "metadata": {
        "byteLimit": 2048000,
        "implicitDf": true,
        "rowLimit": 10000
       },
       "nuid": "857cec0e-6550-4483-b158-4ec937f3230f",
       "origId": 0,
       "parentHierarchy": [],
       "pivotAggregation": null,
       "pivotColumns": null,
       "position": 14.0,
       "resultDbfsErrorMessage": null,
       "resultDbfsStatus": "INLINED_IN_TREE",
       "results": null,
       "showCommandTitle": false,
       "startTime": 0,
       "state": "finished",
       "streamStates": {},
       "subcommandOptions": {
        "queryPlan": {
         "groups": [
          {
           "column": "years_in_the_company",
           "type": "column"
          }
         ],
         "selects": [
          {
           "column": "years_in_the_company",
           "type": "column"
          },
          {
           "alias": "column_c49342a43",
           "args": [
            {
             "column": "employees_left_YES_promoted",
             "type": "column"
            }
           ],
           "function": "SUM",
           "type": "function"
          },
          {
           "alias": "column_c49342a46",
           "args": [
            {
             "column": "employees_left_NO_promoted",
             "type": "column"
            }
           ],
           "function": "SUM",
           "type": "function"
          }
         ]
        }
       },
       "submitTime": 0,
       "subtype": "tableResultSubCmd.visualization",
       "tableResultIndex": 0,
       "useConsistentColors": false,
       "version": "CommandV1",
       "width": "auto",
       "workflows": [],
       "xColumns": null,
       "yColumns": null
      }
     },
     "output_type": "display_data"
    }
   ],
   "source": [
    "%sql\n",
    "-- Query to give a comprehensive view of employee turnover based on tenure, and it differentiates between those who were promoted and those who were not promoted before leaving\n",
    "\n",
    "\n",
    "SELECT \n",
    "    tenure AS years_in_the_company,\n",
    "    SUM(CASE WHEN left = 'yes' THEN 1 ELSE 0 END) AS num_employees_left,\n",
    "    SUM(CASE WHEN left = 'yes' AND promoted = 1 THEN 1 ELSE 0 END) AS employees_left_YES_promoted,\n",
    "    SUM(CASE WHEN left = 'yes' AND promoted = 0 THEN 1 ELSE 0 END) AS employees_left_NO_promoted\n",
    "FROM \n",
    "    employee_data\n",
    "GROUP BY \n",
    "    tenure\n",
    "ORDER BY \n",
    "    tenure;\n",
    "\n"
   ]
  },
  {
   "cell_type": "code",
   "execution_count": 0,
   "metadata": {
    "application/vnd.databricks.v1+cell": {
     "cellMetadata": {
      "byteLimit": 2048000,
      "implicitDf": true,
      "rowLimit": 10000
     },
     "inputWidgets": {},
     "nuid": "7903927a-ecc7-497e-8cc1-bf7f9945cdc6",
     "showTitle": false,
     "title": ""
    }
   },
   "outputs": [
    {
     "output_type": "display_data",
     "data": {
      "text/html": [
       "<style scoped>\n",
       "  .table-result-container {\n",
       "    max-height: 300px;\n",
       "    overflow: auto;\n",
       "  }\n",
       "  table, th, td {\n",
       "    border: 1px solid black;\n",
       "    border-collapse: collapse;\n",
       "  }\n",
       "  th, td {\n",
       "    padding: 5px;\n",
       "  }\n",
       "  th {\n",
       "    text-align: left;\n",
       "  }\n",
       "</style><div class='table-result-container'><table class='table-result'><thead style='background-color: white'><tr><th>left_with_bonus_and_promotion</th><th>stayed_with_bonus_and_promotion</th><th>left_with_bonus_but_no_promotion</th><th>stayed_with_bonus_but_no_promotion</th></tr></thead><tbody><tr><td>570</td><td>1453</td><td>2214</td><td>5303</td></tr></tbody></table></div>"
      ]
     },
     "metadata": {
      "application/vnd.databricks.v1+output": {
       "addedWidgets": {},
       "aggData": [],
       "aggError": "",
       "aggOverflow": false,
       "aggSchema": [],
       "aggSeriesLimitReached": false,
       "aggType": "",
       "arguments": {},
       "columnCustomDisplayInfos": {},
       "data": [
        [
         570,
         1453,
         2214,
         5303
        ]
       ],
       "datasetInfos": [],
       "dbfsResultPath": null,
       "isJsonSchema": true,
       "metadata": {},
       "overflow": false,
       "plotOptions": {
        "customPlotOptions": {},
        "displayType": "table",
        "pivotAggregation": null,
        "pivotColumns": null,
        "xColumns": null,
        "yColumns": null
       },
       "removedWidgets": [],
       "schema": [
        {
         "metadata": "{}",
         "name": "left_with_bonus_and_promotion",
         "type": "\"long\""
        },
        {
         "metadata": "{}",
         "name": "stayed_with_bonus_and_promotion",
         "type": "\"long\""
        },
        {
         "metadata": "{}",
         "name": "left_with_bonus_but_no_promotion",
         "type": "\"long\""
        },
        {
         "metadata": "{}",
         "name": "stayed_with_bonus_but_no_promotion",
         "type": "\"long\""
        }
       ],
       "type": "table"
      }
     },
     "output_type": "display_data"
    },
    {
     "output_type": "display_data",
     "data": {
      "text/plain": [
       "Databricks visualization. Run in Databricks to view."
      ]
     },
     "metadata": {
      "application/vnd.databricks.v1.subcommand+json": {
       "baseErrorDetails": null,
       "bindings": {},
       "collapsed": false,
       "command": "%sql WITH q AS (SELECT \n    SUM(CASE WHEN left = 'yes' AND bonus = 1 THEN 1 ELSE 0 END) AS  left_with_bonus_and_promotion,\n    SUM(CASE WHEN left = 'no' AND bonus = 1 THEN 1 ELSE 0 END) AS  stayed_with_bonus_and_promotion,\n    SUM(CASE WHEN left = 'yes' AND bonus = 0 THEN 1 ELSE 0 END) AS  left_with_bonus_but_no_promotion,\n    SUM(CASE WHEN left = 'no' AND bonus = 0 THEN 1 ELSE 0 END) AS  stayed_with_bonus_but_no_promotion\nFROM \n    employee_data) SELECT SUM(`stayed_with_bonus_and_promotion`) `column_de8b33f617`,SUM(`stayed_with_bonus_but_no_promotion`) `column_de8b33f620`,SUM(`left_with_bonus_and_promotion`) `column_de8b33f623`,SUM(`left_with_bonus_but_no_promotion`) `column_de8b33f626` FROM q GROUP BY GROUPING SETS (())",
       "commandTitle": "Visualization 1",
       "commandType": "auto",
       "commandVersion": 0,
       "commentThread": [],
       "commentsVisible": false,
       "contentSha256Hex": null,
       "customPlotOptions": {
        "redashChart": [
         {
          "key": "type",
          "value": "CHART"
         },
         {
          "key": "options",
          "value": {
           "alignYAxesAtZero": true,
           "coefficient": 1,
           "columnConfigurationMap": {
            "y": [
             {
              "column": "stayed_with_bonus_and_promotion",
              "id": "column_de8b33f617",
              "transform": "SUM"
             },
             {
              "column": "stayed_with_bonus_but_no_promotion",
              "id": "column_de8b33f620",
              "transform": "SUM"
             },
             {
              "column": "left_with_bonus_and_promotion",
              "id": "column_de8b33f623",
              "transform": "SUM"
             },
             {
              "column": "left_with_bonus_but_no_promotion",
              "id": "column_de8b33f626",
              "transform": "SUM"
             }
            ]
           },
           "dateTimeFormat": "DD/MM/YYYY HH:mm",
           "direction": {
            "type": "counterclockwise"
           },
           "error_y": {
            "type": "data",
            "visible": true
           },
           "globalSeriesType": "column",
           "hideXAxis": false,
           "hideYAxes": false,
           "isAggregationOn": true,
           "legend": {
            "traceorder": "normal"
           },
           "missingValuesAsZero": true,
           "numberFormat": "0,0.[00000]",
           "percentFormat": "0[.]00%",
           "series": {
            "error_y": {
             "type": "data",
             "visible": true
            },
            "stacking": null
           },
           "seriesOptions": {
            "column_de8b33f617": {
             "type": "column",
             "yAxis": 0
            },
            "column_de8b33f620": {
             "type": "column",
             "yAxis": 0
            },
            "column_de8b33f623": {
             "color": "#3BD973",
             "type": "column",
             "yAxis": 0
            },
            "column_de8b33f626": {
             "color": "#A55F2A",
             "type": "column",
             "yAxis": 0
            }
           },
           "showDataLabels": true,
           "sizemode": "diameter",
           "sortX": true,
           "sortY": true,
           "swappedAxes": false,
           "textFormat": "",
           "useAggregationsUi": true,
           "valuesOptions": {},
           "version": 2,
           "xAxis": {
            "labels": {
             "enabled": true
            },
            "type": "-"
           },
           "yAxis": [
            {
             "title": {
              "text": "Number of Employees"
             },
             "type": "-"
            },
            {
             "opposite": true,
             "type": "-"
            }
           ]
          }
         }
        ]
       },
       "datasetPreviewNameToCmdIdMap": {},
       "diffDeletes": [],
       "diffInserts": [],
       "displayType": "redashChart",
       "error": null,
       "errorDetails": null,
       "errorSummary": null,
       "errorTraceType": null,
       "finishTime": 0,
       "globalVars": {},
       "guid": "",
       "height": "auto",
       "hideCommandCode": false,
       "hideCommandResult": false,
       "iPythonMetadata": null,
       "inputWidgets": {},
       "isLockedInExamMode": false,
       "latestUser": "a user",
       "latestUserId": null,
       "listResultMetadata": null,
       "metadata": {
        "byteLimit": 2048000,
        "implicitDf": true,
        "rowLimit": 10000
       },
       "nuid": "f512e0bf-71a0-48d5-9131-94c4140364aa",
       "origId": 0,
       "parentHierarchy": [],
       "pivotAggregation": null,
       "pivotColumns": null,
       "position": 18.0,
       "resultDbfsErrorMessage": null,
       "resultDbfsStatus": "INLINED_IN_TREE",
       "results": null,
       "showCommandTitle": false,
       "startTime": 0,
       "state": "finished",
       "streamStates": {},
       "subcommandOptions": {
        "queryPlan": {
         "groups": [],
         "selects": [
          {
           "alias": "column_de8b33f617",
           "args": [
            {
             "column": "stayed_with_bonus_and_promotion",
             "type": "column"
            }
           ],
           "function": "SUM",
           "type": "function"
          },
          {
           "alias": "column_de8b33f620",
           "args": [
            {
             "column": "stayed_with_bonus_but_no_promotion",
             "type": "column"
            }
           ],
           "function": "SUM",
           "type": "function"
          },
          {
           "alias": "column_de8b33f623",
           "args": [
            {
             "column": "left_with_bonus_and_promotion",
             "type": "column"
            }
           ],
           "function": "SUM",
           "type": "function"
          },
          {
           "alias": "column_de8b33f626",
           "args": [
            {
             "column": "left_with_bonus_but_no_promotion",
             "type": "column"
            }
           ],
           "function": "SUM",
           "type": "function"
          }
         ]
        }
       },
       "submitTime": 0,
       "subtype": "tableResultSubCmd.visualization",
       "tableResultIndex": 0,
       "useConsistentColors": false,
       "version": "CommandV1",
       "width": "auto",
       "workflows": [],
       "xColumns": null,
       "yColumns": null
      }
     },
     "output_type": "display_data"
    }
   ],
   "source": [
    "%sql\n",
    "-- Query to see if the bonus and promotion were or not an important fact for the employees to left the company\n",
    "\n",
    "\n",
    "SELECT \n",
    "    SUM(CASE WHEN left = 'yes' AND bonus = 1 THEN 1 ELSE 0 END) AS  left_with_bonus_and_promotion,\n",
    "    SUM(CASE WHEN left = 'no' AND bonus = 1 THEN 1 ELSE 0 END) AS  stayed_with_bonus_and_promotion,\n",
    "    SUM(CASE WHEN left = 'yes' AND bonus = 0 THEN 1 ELSE 0 END) AS  left_with_bonus_but_no_promotion,\n",
    "    SUM(CASE WHEN left = 'no' AND bonus = 0 THEN 1 ELSE 0 END) AS  stayed_with_bonus_but_no_promotion\n",
    "FROM \n",
    "    employee_data;\n"
   ]
  },
  {
   "cell_type": "code",
   "execution_count": 0,
   "metadata": {
    "application/vnd.databricks.v1+cell": {
     "cellMetadata": {
      "byteLimit": 2048000,
      "implicitDf": true,
      "rowLimit": 10000
     },
     "inputWidgets": {},
     "nuid": "59d4ca1b-3ad2-4f82-a2f6-1b5ae2fb0b1d",
     "showTitle": false,
     "title": ""
    }
   },
   "outputs": [
    {
     "output_type": "display_data",
     "data": {
      "text/html": [
       "<style scoped>\n",
       "  .table-result-container {\n",
       "    max-height: 300px;\n",
       "    overflow: auto;\n",
       "  }\n",
       "  table, th, td {\n",
       "    border: 1px solid black;\n",
       "    border-collapse: collapse;\n",
       "  }\n",
       "  th, td {\n",
       "    padding: 5px;\n",
       "  }\n",
       "  th {\n",
       "    text-align: left;\n",
       "  }\n",
       "</style><div class='table-result-container'><table class='table-result'><thead style='background-color: white'><tr><th>projects</th><th>num_employees_left</th><th>num_employees_left_NO_bonus</th><th>num_employees_left_yes_bonus</th></tr></thead><tbody><tr><td>5</td><td>20</td><td>19</td><td>1</td></tr><tr><td>4</td><td>869</td><td>686</td><td>183</td></tr><tr><td>3</td><td>1720</td><td>1369</td><td>351</td></tr><tr><td>2</td><td>175</td><td>140</td><td>35</td></tr></tbody></table></div>"
      ]
     },
     "metadata": {
      "application/vnd.databricks.v1+output": {
       "addedWidgets": {},
       "aggData": [],
       "aggError": "",
       "aggOverflow": false,
       "aggSchema": [],
       "aggSeriesLimitReached": false,
       "aggType": "",
       "arguments": {},
       "columnCustomDisplayInfos": {},
       "data": [
        [
         5,
         20,
         19,
         1
        ],
        [
         4,
         869,
         686,
         183
        ],
        [
         3,
         1720,
         1369,
         351
        ],
        [
         2,
         175,
         140,
         35
        ]
       ],
       "datasetInfos": [],
       "dbfsResultPath": null,
       "isJsonSchema": true,
       "metadata": {},
       "overflow": false,
       "plotOptions": {
        "customPlotOptions": {},
        "displayType": "table",
        "pivotAggregation": null,
        "pivotColumns": null,
        "xColumns": null,
        "yColumns": null
       },
       "removedWidgets": [],
       "schema": [
        {
         "metadata": "{}",
         "name": "projects",
         "type": "\"integer\""
        },
        {
         "metadata": "{}",
         "name": "num_employees_left",
         "type": "\"long\""
        },
        {
         "metadata": "{}",
         "name": "num_employees_left_NO_bonus",
         "type": "\"long\""
        },
        {
         "metadata": "{}",
         "name": "num_employees_left_yes_bonus",
         "type": "\"long\""
        }
       ],
       "type": "table"
      }
     },
     "output_type": "display_data"
    },
    {
     "output_type": "display_data",
     "data": {
      "text/plain": [
       "Databricks visualization. Run in Databricks to view."
      ]
     },
     "metadata": {
      "application/vnd.databricks.v1.subcommand+json": {
       "baseErrorDetails": null,
       "bindings": {},
       "collapsed": false,
       "command": "%sql WITH q AS (SELECT \n    projects,\n    SUM(CASE WHEN left = 'yes' THEN 1 ELSE 0 END) AS num_employees_left,\n    SUM(CASE WHEN left = 'yes' AND bonus = 0 THEN 1 ELSE 0 END) AS num_employees_left_NO_bonus,\n    SUM(CASE WHEN left = 'yes' AND bonus = 1 THEN 1 ELSE 0 END) AS num_employees_left_yes_bonus\n\n\nFROM \n    employee_data\nGROUP BY \n    projects \nORDER BY projects DESC) SELECT `projects`,SUM(`num_employees_left_NO_bonus`) `column_1b9c435413`,SUM(`num_employees_left_yes_bonus`) `column_1b9c435416` FROM q GROUP BY `projects`",
       "commandTitle": "Visualization 1",
       "commandType": "auto",
       "commandVersion": 0,
       "commentThread": [],
       "commentsVisible": false,
       "contentSha256Hex": null,
       "customPlotOptions": {
        "redashChart": [
         {
          "key": "type",
          "value": "CHART"
         },
         {
          "key": "options",
          "value": {
           "alignYAxesAtZero": true,
           "coefficient": 1,
           "columnConfigurationMap": {
            "x": {
             "column": "projects",
             "id": "column_1b9c435418"
            },
            "y": [
             {
              "column": "num_employees_left_NO_bonus",
              "id": "column_1b9c435413",
              "transform": "SUM"
             },
             {
              "column": "num_employees_left_yes_bonus",
              "id": "column_1b9c435416",
              "transform": "SUM"
             }
            ]
           },
           "dateTimeFormat": "DD/MM/YYYY HH:mm",
           "direction": {
            "type": "counterclockwise"
           },
           "error_y": {
            "type": "data",
            "visible": true
           },
           "globalSeriesType": "column",
           "isAggregationOn": true,
           "legend": {
            "traceorder": "normal"
           },
           "missingValuesAsZero": true,
           "numberFormat": "0,0.[00000]",
           "percentFormat": "0[.]00%",
           "series": {
            "error_y": {
             "type": "data",
             "visible": true
            },
            "stacking": null
           },
           "seriesOptions": {
            "column_1b9c435413": {
             "color": "#E92828",
             "type": "column",
             "yAxis": 0
            },
            "column_1b9c435416": {
             "color": "#356AFF",
             "type": "column",
             "yAxis": 0
            }
           },
           "showDataLabels": true,
           "sizemode": "diameter",
           "sortX": true,
           "sortY": true,
           "swappedAxes": true,
           "textFormat": "",
           "useAggregationsUi": true,
           "valuesOptions": {},
           "version": 2,
           "xAxis": {
            "labels": {
             "enabled": true
            },
            "type": "-"
           },
           "yAxis": [
            {
             "title": {
              "text": "Number of employees who left the company"
             },
             "type": "-"
            },
            {
             "opposite": true,
             "type": "-"
            }
           ]
          }
         }
        ]
       },
       "datasetPreviewNameToCmdIdMap": {},
       "diffDeletes": [],
       "diffInserts": [],
       "displayType": "redashChart",
       "error": null,
       "errorDetails": null,
       "errorSummary": null,
       "errorTraceType": null,
       "finishTime": 0,
       "globalVars": {},
       "guid": "",
       "height": "auto",
       "hideCommandCode": false,
       "hideCommandResult": false,
       "iPythonMetadata": null,
       "inputWidgets": {},
       "isLockedInExamMode": false,
       "latestUser": "a user",
       "latestUserId": null,
       "listResultMetadata": null,
       "metadata": {
        "byteLimit": 2048000,
        "implicitDf": true,
        "rowLimit": 10000
       },
       "nuid": "9b7c9ae3-973e-4933-adf0-e5fafbd3999d",
       "origId": 0,
       "parentHierarchy": [],
       "pivotAggregation": null,
       "pivotColumns": null,
       "position": 22.0,
       "resultDbfsErrorMessage": null,
       "resultDbfsStatus": "INLINED_IN_TREE",
       "results": null,
       "showCommandTitle": false,
       "startTime": 0,
       "state": "finished",
       "streamStates": {},
       "subcommandOptions": {
        "queryPlan": {
         "groups": [
          {
           "column": "projects",
           "type": "column"
          }
         ],
         "selects": [
          {
           "column": "projects",
           "type": "column"
          },
          {
           "alias": "column_1b9c435413",
           "args": [
            {
             "column": "num_employees_left_NO_bonus",
             "type": "column"
            }
           ],
           "function": "SUM",
           "type": "function"
          },
          {
           "alias": "column_1b9c435416",
           "args": [
            {
             "column": "num_employees_left_yes_bonus",
             "type": "column"
            }
           ],
           "function": "SUM",
           "type": "function"
          }
         ]
        }
       },
       "submitTime": 0,
       "subtype": "tableResultSubCmd.visualization",
       "tableResultIndex": 0,
       "useConsistentColors": false,
       "version": "CommandV1",
       "width": "auto",
       "workflows": [],
       "xColumns": null,
       "yColumns": null
      }
     },
     "output_type": "display_data"
    }
   ],
   "source": [
    "%sql\n",
    "-- Query that groups employee data by project count, counting those who left with bonuses and left without bonuses, offering insights into attrition trends based on project involvement and rewards received.\n",
    "\n",
    "SELECT \n",
    "    projects,\n",
    "    SUM(CASE WHEN left = 'yes' THEN 1 ELSE 0 END) AS num_employees_left,\n",
    "    SUM(CASE WHEN left = 'yes' AND bonus = 0 THEN 1 ELSE 0 END) AS num_employees_left_NO_bonus,\n",
    "    SUM(CASE WHEN left = 'yes' AND bonus = 1 THEN 1 ELSE 0 END) AS num_employees_left_yes_bonus\n",
    "\n",
    "\n",
    "FROM \n",
    "    employee_data\n",
    "GROUP BY \n",
    "    projects \n",
    "ORDER BY projects DESC;\n"
   ]
  },
  {
   "cell_type": "code",
   "execution_count": 0,
   "metadata": {
    "application/vnd.databricks.v1+cell": {
     "cellMetadata": {
      "byteLimit": 2048000,
      "rowLimit": 10000
     },
     "inputWidgets": {},
     "nuid": "dc9af1a1-78bb-48f4-ac0e-0079e71396a3",
     "showTitle": false,
     "title": ""
    }
   },
   "outputs": [
    {
     "output_type": "display_data",
     "data": {
      "text/plain": [
       "\u001B[0;31m---------------------------------------------------------------------------\u001B[0m\n",
       "\u001B[0;31mNameError\u001B[0m                                 Traceback (most recent call last)\n",
       "\u001B[0;32m<command-8775762980003>\u001B[0m in \u001B[0;36m<cell line: 6>\u001B[0;34m()\u001B[0m\n",
       "\u001B[1;32m      4\u001B[0m \u001B[0;34m\u001B[0m\u001B[0m\n",
       "\u001B[1;32m      5\u001B[0m \u001B[0;31m# Display the DataFrame.\u001B[0m\u001B[0;34m\u001B[0m\u001B[0;34m\u001B[0m\u001B[0;34m\u001B[0m\u001B[0m\n",
       "\u001B[0;32m----> 6\u001B[0;31m \u001B[0mdf2\u001B[0m\u001B[0;34m.\u001B[0m\u001B[0mshow\u001B[0m\u001B[0;34m(\u001B[0m\u001B[0;34m)\u001B[0m\u001B[0;34m\u001B[0m\u001B[0;34m\u001B[0m\u001B[0m\n",
       "\u001B[0m\n",
       "\u001B[0;31mNameError\u001B[0m: name 'df2' is not defined"
      ]
     },
     "metadata": {
      "application/vnd.databricks.v1+output": {
       "arguments": {},
       "data": "\u001B[0;31m---------------------------------------------------------------------------\u001B[0m\n\u001B[0;31mNameError\u001B[0m                                 Traceback (most recent call last)\n\u001B[0;32m<command-8775762980003>\u001B[0m in \u001B[0;36m<cell line: 6>\u001B[0;34m()\u001B[0m\n\u001B[1;32m      4\u001B[0m \u001B[0;34m\u001B[0m\u001B[0m\n\u001B[1;32m      5\u001B[0m \u001B[0;31m# Display the DataFrame.\u001B[0m\u001B[0;34m\u001B[0m\u001B[0;34m\u001B[0m\u001B[0;34m\u001B[0m\u001B[0m\n\u001B[0;32m----> 6\u001B[0;31m \u001B[0mdf2\u001B[0m\u001B[0;34m.\u001B[0m\u001B[0mshow\u001B[0m\u001B[0;34m(\u001B[0m\u001B[0;34m)\u001B[0m\u001B[0;34m\u001B[0m\u001B[0;34m\u001B[0m\u001B[0m\n\u001B[0m\n\u001B[0;31mNameError\u001B[0m: name 'df2' is not defined",
       "errorSummary": "<span class='ansi-red-fg'>NameError</span>: name 'df2' is not defined",
       "errorTraceType": "ansi",
       "metadata": {},
       "type": "ipynbError"
      }
     },
     "output_type": "display_data"
    }
   ],
   "source": [
    "# Load the vehicles.csv file into a DataFrame.\n",
    "file_location = '/FileStore/tables/employee_left.csv'\n",
    "df = spark.read.csv(file_location, inferSchema=True, header=True)\n",
    "\n",
    "# Display the DataFrame.\n",
    "df2.show()"
   ]
  },
  {
   "cell_type": "code",
   "execution_count": 0,
   "metadata": {
    "application/vnd.databricks.v1+cell": {
     "cellMetadata": {
      "byteLimit": 2048000,
      "rowLimit": 10000
     },
     "inputWidgets": {},
     "nuid": "979604ef-3ea3-4892-9a17-9399e02cf96a",
     "showTitle": false,
     "title": ""
    }
   },
   "outputs": [
    {
     "output_type": "display_data",
     "data": {
      "text/plain": [
       ""
      ]
     },
     "metadata": {
      "application/vnd.databricks.v1+output": {
       "arguments": {},
       "data": "",
       "errorSummary": "Command skipped",
       "errorTraceType": "ansi",
       "metadata": {},
       "type": "ipynbError"
      }
     },
     "output_type": "display_data"
    }
   ],
   "source": [
    "# Display the DataFrame and create a bar chart.\n",
    "\n",
    "display(df)"
   ]
  },
  {
   "cell_type": "code",
   "execution_count": 0,
   "metadata": {
    "application/vnd.databricks.v1+cell": {
     "cellMetadata": {
      "byteLimit": 2048000,
      "rowLimit": 10000
     },
     "inputWidgets": {},
     "nuid": "dde8a03e-0b57-49cf-98c1-8c88fec5fd11",
     "showTitle": false,
     "title": ""
    }
   },
   "outputs": [],
   "source": []
  }
 ],
 "metadata": {
  "application/vnd.databricks.v1+notebook": {
   "dashboards": [],
   "language": "python",
   "notebookMetadata": {
    "mostRecentlyExecutedCommandWithImplicitDF": {
     "commandId": 1839287457756956,
     "dataframes": [
      "_sqldf"
     ]
    },
    "pythonIndentUnit": 4
   },
   "notebookName": "Project_4",
   "widgets": {}
  }
 },
 "nbformat": 4,
 "nbformat_minor": 0
}

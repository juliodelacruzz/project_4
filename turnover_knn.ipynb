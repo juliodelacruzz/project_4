{
 "cells": [
  {
   "cell_type": "code",
   "execution_count": 1,
   "id": "aac20200-f6ea-4c4e-9488-18a1c46bb9e9",
   "metadata": {},
   "outputs": [],
   "source": [
    "# Import Modules\n",
    "from warnings import simplefilter\n",
    "simplefilter(action='ignore', category=FutureWarning)\n",
    "import pandas as pd\n",
    "from pathlib import Path\n",
    "from sklearn.neighbors import KNeighborsClassifier\n",
    "from sklearn.model_selection import train_test_split\n",
    "from sklearn.metrics import confusion_matrix,classification_report, accuracy_score\n",
    "from sklearn.preprocessing import StandardScaler\n",
    "\n",
    "# Display all of the columns\n",
    "pd.set_option('display.max_columns', None)"
   ]
  },
  {
   "cell_type": "code",
   "execution_count": 2,
   "id": "1843ff62-56a0-4c6a-97ad-94d9da1a6023",
   "metadata": {},
   "outputs": [
    {
     "data": {
      "text/html": [
       "<div>\n",
       "<style scoped>\n",
       "    .dataframe tbody tr th:only-of-type {\n",
       "        vertical-align: middle;\n",
       "    }\n",
       "\n",
       "    .dataframe tbody tr th {\n",
       "        vertical-align: top;\n",
       "    }\n",
       "\n",
       "    .dataframe thead th {\n",
       "        text-align: right;\n",
       "    }\n",
       "</style>\n",
       "<table border=\"1\" class=\"dataframe\">\n",
       "  <thead>\n",
       "    <tr style=\"text-align: right;\">\n",
       "      <th></th>\n",
       "      <th>department</th>\n",
       "      <th>promoted</th>\n",
       "      <th>review</th>\n",
       "      <th>projects</th>\n",
       "      <th>salary</th>\n",
       "      <th>tenure</th>\n",
       "      <th>satisfaction</th>\n",
       "      <th>bonus</th>\n",
       "      <th>avg_hrs_month</th>\n",
       "      <th>left</th>\n",
       "    </tr>\n",
       "  </thead>\n",
       "  <tbody>\n",
       "    <tr>\n",
       "      <th>0</th>\n",
       "      <td>operations</td>\n",
       "      <td>0</td>\n",
       "      <td>0.577569</td>\n",
       "      <td>3</td>\n",
       "      <td>low</td>\n",
       "      <td>5.0</td>\n",
       "      <td>0.626759</td>\n",
       "      <td>0</td>\n",
       "      <td>180.866070</td>\n",
       "      <td>no</td>\n",
       "    </tr>\n",
       "    <tr>\n",
       "      <th>1</th>\n",
       "      <td>operations</td>\n",
       "      <td>0</td>\n",
       "      <td>0.751900</td>\n",
       "      <td>3</td>\n",
       "      <td>medium</td>\n",
       "      <td>6.0</td>\n",
       "      <td>0.443679</td>\n",
       "      <td>0</td>\n",
       "      <td>182.708149</td>\n",
       "      <td>no</td>\n",
       "    </tr>\n",
       "    <tr>\n",
       "      <th>2</th>\n",
       "      <td>support</td>\n",
       "      <td>0</td>\n",
       "      <td>0.722548</td>\n",
       "      <td>3</td>\n",
       "      <td>medium</td>\n",
       "      <td>6.0</td>\n",
       "      <td>0.446823</td>\n",
       "      <td>0</td>\n",
       "      <td>184.416084</td>\n",
       "      <td>no</td>\n",
       "    </tr>\n",
       "    <tr>\n",
       "      <th>3</th>\n",
       "      <td>logistics</td>\n",
       "      <td>0</td>\n",
       "      <td>0.675158</td>\n",
       "      <td>4</td>\n",
       "      <td>high</td>\n",
       "      <td>8.0</td>\n",
       "      <td>0.440139</td>\n",
       "      <td>0</td>\n",
       "      <td>188.707545</td>\n",
       "      <td>no</td>\n",
       "    </tr>\n",
       "    <tr>\n",
       "      <th>4</th>\n",
       "      <td>sales</td>\n",
       "      <td>0</td>\n",
       "      <td>0.676203</td>\n",
       "      <td>3</td>\n",
       "      <td>high</td>\n",
       "      <td>5.0</td>\n",
       "      <td>0.577607</td>\n",
       "      <td>1</td>\n",
       "      <td>179.821083</td>\n",
       "      <td>no</td>\n",
       "    </tr>\n",
       "  </tbody>\n",
       "</table>\n",
       "</div>"
      ],
      "text/plain": [
       "   department  promoted    review  projects  salary  tenure  satisfaction  \\\n",
       "0  operations         0  0.577569         3     low     5.0      0.626759   \n",
       "1  operations         0  0.751900         3  medium     6.0      0.443679   \n",
       "2     support         0  0.722548         3  medium     6.0      0.446823   \n",
       "3   logistics         0  0.675158         4    high     8.0      0.440139   \n",
       "4       sales         0  0.676203         3    high     5.0      0.577607   \n",
       "\n",
       "   bonus  avg_hrs_month left  \n",
       "0      0     180.866070   no  \n",
       "1      0     182.708149   no  \n",
       "2      0     184.416084   no  \n",
       "3      0     188.707545   no  \n",
       "4      1     179.821083   no  "
      ]
     },
     "execution_count": 2,
     "metadata": {},
     "output_type": "execute_result"
    }
   ],
   "source": [
    "# Read the CSV file into a Pandas DataFrame\n",
    "df = pd.read_csv(\n",
    "    Path('employee_churn_data.csv')\n",
    ")\n",
    "df.head()"
   ]
  },
  {
   "cell_type": "code",
   "execution_count": 3,
   "id": "361160da-c406-4995-b309-2f1cb9381781",
   "metadata": {},
   "outputs": [],
   "source": [
    "# Split target column from dataset\n",
    "y = df['left']\n",
    "X = df.drop(columns='left')"
   ]
  },
  {
   "cell_type": "code",
   "execution_count": 4,
   "id": "0df9a80b-7548-4e3f-94f8-9629caa2afc9",
   "metadata": {},
   "outputs": [
    {
     "data": {
      "text/html": [
       "<div>\n",
       "<style scoped>\n",
       "    .dataframe tbody tr th:only-of-type {\n",
       "        vertical-align: middle;\n",
       "    }\n",
       "\n",
       "    .dataframe tbody tr th {\n",
       "        vertical-align: top;\n",
       "    }\n",
       "\n",
       "    .dataframe thead th {\n",
       "        text-align: right;\n",
       "    }\n",
       "</style>\n",
       "<table border=\"1\" class=\"dataframe\">\n",
       "  <thead>\n",
       "    <tr style=\"text-align: right;\">\n",
       "      <th></th>\n",
       "      <th>department</th>\n",
       "      <th>promoted</th>\n",
       "      <th>review</th>\n",
       "      <th>projects</th>\n",
       "      <th>salary</th>\n",
       "      <th>tenure</th>\n",
       "      <th>satisfaction</th>\n",
       "      <th>bonus</th>\n",
       "      <th>avg_hrs_month</th>\n",
       "    </tr>\n",
       "  </thead>\n",
       "  <tbody>\n",
       "    <tr>\n",
       "      <th>0</th>\n",
       "      <td>operations</td>\n",
       "      <td>0</td>\n",
       "      <td>0.577569</td>\n",
       "      <td>3</td>\n",
       "      <td>low</td>\n",
       "      <td>5.0</td>\n",
       "      <td>0.626759</td>\n",
       "      <td>0</td>\n",
       "      <td>180.866070</td>\n",
       "    </tr>\n",
       "    <tr>\n",
       "      <th>1</th>\n",
       "      <td>operations</td>\n",
       "      <td>0</td>\n",
       "      <td>0.751900</td>\n",
       "      <td>3</td>\n",
       "      <td>medium</td>\n",
       "      <td>6.0</td>\n",
       "      <td>0.443679</td>\n",
       "      <td>0</td>\n",
       "      <td>182.708149</td>\n",
       "    </tr>\n",
       "    <tr>\n",
       "      <th>2</th>\n",
       "      <td>support</td>\n",
       "      <td>0</td>\n",
       "      <td>0.722548</td>\n",
       "      <td>3</td>\n",
       "      <td>medium</td>\n",
       "      <td>6.0</td>\n",
       "      <td>0.446823</td>\n",
       "      <td>0</td>\n",
       "      <td>184.416084</td>\n",
       "    </tr>\n",
       "    <tr>\n",
       "      <th>3</th>\n",
       "      <td>logistics</td>\n",
       "      <td>0</td>\n",
       "      <td>0.675158</td>\n",
       "      <td>4</td>\n",
       "      <td>high</td>\n",
       "      <td>8.0</td>\n",
       "      <td>0.440139</td>\n",
       "      <td>0</td>\n",
       "      <td>188.707545</td>\n",
       "    </tr>\n",
       "    <tr>\n",
       "      <th>4</th>\n",
       "      <td>sales</td>\n",
       "      <td>0</td>\n",
       "      <td>0.676203</td>\n",
       "      <td>3</td>\n",
       "      <td>high</td>\n",
       "      <td>5.0</td>\n",
       "      <td>0.577607</td>\n",
       "      <td>1</td>\n",
       "      <td>179.821083</td>\n",
       "    </tr>\n",
       "  </tbody>\n",
       "</table>\n",
       "</div>"
      ],
      "text/plain": [
       "   department  promoted    review  projects  salary  tenure  satisfaction  \\\n",
       "0  operations         0  0.577569         3     low     5.0      0.626759   \n",
       "1  operations         0  0.751900         3  medium     6.0      0.443679   \n",
       "2     support         0  0.722548         3  medium     6.0      0.446823   \n",
       "3   logistics         0  0.675158         4    high     8.0      0.440139   \n",
       "4       sales         0  0.676203         3    high     5.0      0.577607   \n",
       "\n",
       "   bonus  avg_hrs_month  \n",
       "0      0     180.866070  \n",
       "1      0     182.708149  \n",
       "2      0     184.416084  \n",
       "3      0     188.707545  \n",
       "4      1     179.821083  "
      ]
     },
     "execution_count": 4,
     "metadata": {},
     "output_type": "execute_result"
    }
   ],
   "source": [
    "# Preview the data\n",
    "X[:5]"
   ]
  },
  {
   "cell_type": "code",
   "execution_count": 5,
   "id": "fc5637f9-33c2-4733-9454-33f1860a4d0d",
   "metadata": {},
   "outputs": [
    {
     "data": {
      "text/plain": [
       "0    no\n",
       "1    no\n",
       "2    no\n",
       "3    no\n",
       "4    no\n",
       "Name: left, dtype: object"
      ]
     },
     "execution_count": 5,
     "metadata": {},
     "output_type": "execute_result"
    }
   ],
   "source": [
    "# Print first five entries for target\n",
    "y[:5]"
   ]
  },
  {
   "cell_type": "code",
   "execution_count": 6,
   "id": "790bc9f6-69c8-4b31-84ac-f742c1afb324",
   "metadata": {},
   "outputs": [],
   "source": [
    "# Encode the categorical variables using get_dummies\n",
    "X = pd.get_dummies(X)"
   ]
  },
  {
   "cell_type": "code",
   "execution_count": 7,
   "id": "7499818d-a5de-4eab-a4e7-cb849fe7c2dd",
   "metadata": {},
   "outputs": [
    {
     "data": {
      "text/html": [
       "<div>\n",
       "<style scoped>\n",
       "    .dataframe tbody tr th:only-of-type {\n",
       "        vertical-align: middle;\n",
       "    }\n",
       "\n",
       "    .dataframe tbody tr th {\n",
       "        vertical-align: top;\n",
       "    }\n",
       "\n",
       "    .dataframe thead th {\n",
       "        text-align: right;\n",
       "    }\n",
       "</style>\n",
       "<table border=\"1\" class=\"dataframe\">\n",
       "  <thead>\n",
       "    <tr style=\"text-align: right;\">\n",
       "      <th></th>\n",
       "      <th>promoted</th>\n",
       "      <th>review</th>\n",
       "      <th>projects</th>\n",
       "      <th>tenure</th>\n",
       "      <th>satisfaction</th>\n",
       "      <th>bonus</th>\n",
       "      <th>avg_hrs_month</th>\n",
       "      <th>department_IT</th>\n",
       "      <th>department_admin</th>\n",
       "      <th>department_engineering</th>\n",
       "      <th>department_finance</th>\n",
       "      <th>department_logistics</th>\n",
       "      <th>department_marketing</th>\n",
       "      <th>department_operations</th>\n",
       "      <th>department_retail</th>\n",
       "      <th>department_sales</th>\n",
       "      <th>department_support</th>\n",
       "      <th>salary_high</th>\n",
       "      <th>salary_low</th>\n",
       "      <th>salary_medium</th>\n",
       "    </tr>\n",
       "  </thead>\n",
       "  <tbody>\n",
       "    <tr>\n",
       "      <th>0</th>\n",
       "      <td>0</td>\n",
       "      <td>0.577569</td>\n",
       "      <td>3</td>\n",
       "      <td>5.0</td>\n",
       "      <td>0.626759</td>\n",
       "      <td>0</td>\n",
       "      <td>180.866070</td>\n",
       "      <td>False</td>\n",
       "      <td>False</td>\n",
       "      <td>False</td>\n",
       "      <td>False</td>\n",
       "      <td>False</td>\n",
       "      <td>False</td>\n",
       "      <td>True</td>\n",
       "      <td>False</td>\n",
       "      <td>False</td>\n",
       "      <td>False</td>\n",
       "      <td>False</td>\n",
       "      <td>True</td>\n",
       "      <td>False</td>\n",
       "    </tr>\n",
       "    <tr>\n",
       "      <th>1</th>\n",
       "      <td>0</td>\n",
       "      <td>0.751900</td>\n",
       "      <td>3</td>\n",
       "      <td>6.0</td>\n",
       "      <td>0.443679</td>\n",
       "      <td>0</td>\n",
       "      <td>182.708149</td>\n",
       "      <td>False</td>\n",
       "      <td>False</td>\n",
       "      <td>False</td>\n",
       "      <td>False</td>\n",
       "      <td>False</td>\n",
       "      <td>False</td>\n",
       "      <td>True</td>\n",
       "      <td>False</td>\n",
       "      <td>False</td>\n",
       "      <td>False</td>\n",
       "      <td>False</td>\n",
       "      <td>False</td>\n",
       "      <td>True</td>\n",
       "    </tr>\n",
       "    <tr>\n",
       "      <th>2</th>\n",
       "      <td>0</td>\n",
       "      <td>0.722548</td>\n",
       "      <td>3</td>\n",
       "      <td>6.0</td>\n",
       "      <td>0.446823</td>\n",
       "      <td>0</td>\n",
       "      <td>184.416084</td>\n",
       "      <td>False</td>\n",
       "      <td>False</td>\n",
       "      <td>False</td>\n",
       "      <td>False</td>\n",
       "      <td>False</td>\n",
       "      <td>False</td>\n",
       "      <td>False</td>\n",
       "      <td>False</td>\n",
       "      <td>False</td>\n",
       "      <td>True</td>\n",
       "      <td>False</td>\n",
       "      <td>False</td>\n",
       "      <td>True</td>\n",
       "    </tr>\n",
       "    <tr>\n",
       "      <th>3</th>\n",
       "      <td>0</td>\n",
       "      <td>0.675158</td>\n",
       "      <td>4</td>\n",
       "      <td>8.0</td>\n",
       "      <td>0.440139</td>\n",
       "      <td>0</td>\n",
       "      <td>188.707545</td>\n",
       "      <td>False</td>\n",
       "      <td>False</td>\n",
       "      <td>False</td>\n",
       "      <td>False</td>\n",
       "      <td>True</td>\n",
       "      <td>False</td>\n",
       "      <td>False</td>\n",
       "      <td>False</td>\n",
       "      <td>False</td>\n",
       "      <td>False</td>\n",
       "      <td>True</td>\n",
       "      <td>False</td>\n",
       "      <td>False</td>\n",
       "    </tr>\n",
       "    <tr>\n",
       "      <th>4</th>\n",
       "      <td>0</td>\n",
       "      <td>0.676203</td>\n",
       "      <td>3</td>\n",
       "      <td>5.0</td>\n",
       "      <td>0.577607</td>\n",
       "      <td>1</td>\n",
       "      <td>179.821083</td>\n",
       "      <td>False</td>\n",
       "      <td>False</td>\n",
       "      <td>False</td>\n",
       "      <td>False</td>\n",
       "      <td>False</td>\n",
       "      <td>False</td>\n",
       "      <td>False</td>\n",
       "      <td>False</td>\n",
       "      <td>True</td>\n",
       "      <td>False</td>\n",
       "      <td>True</td>\n",
       "      <td>False</td>\n",
       "      <td>False</td>\n",
       "    </tr>\n",
       "  </tbody>\n",
       "</table>\n",
       "</div>"
      ],
      "text/plain": [
       "   promoted    review  projects  tenure  satisfaction  bonus  avg_hrs_month  \\\n",
       "0         0  0.577569         3     5.0      0.626759      0     180.866070   \n",
       "1         0  0.751900         3     6.0      0.443679      0     182.708149   \n",
       "2         0  0.722548         3     6.0      0.446823      0     184.416084   \n",
       "3         0  0.675158         4     8.0      0.440139      0     188.707545   \n",
       "4         0  0.676203         3     5.0      0.577607      1     179.821083   \n",
       "\n",
       "   department_IT  department_admin  department_engineering  \\\n",
       "0          False             False                   False   \n",
       "1          False             False                   False   \n",
       "2          False             False                   False   \n",
       "3          False             False                   False   \n",
       "4          False             False                   False   \n",
       "\n",
       "   department_finance  department_logistics  department_marketing  \\\n",
       "0               False                 False                 False   \n",
       "1               False                 False                 False   \n",
       "2               False                 False                 False   \n",
       "3               False                  True                 False   \n",
       "4               False                 False                 False   \n",
       "\n",
       "   department_operations  department_retail  department_sales  \\\n",
       "0                   True              False             False   \n",
       "1                   True              False             False   \n",
       "2                  False              False             False   \n",
       "3                  False              False             False   \n",
       "4                  False              False              True   \n",
       "\n",
       "   department_support  salary_high  salary_low  salary_medium  \n",
       "0               False        False        True          False  \n",
       "1               False        False       False           True  \n",
       "2                True        False       False           True  \n",
       "3               False         True       False          False  \n",
       "4               False         True       False          False  "
      ]
     },
     "execution_count": 7,
     "metadata": {},
     "output_type": "execute_result"
    }
   ],
   "source": [
    "X.head()"
   ]
  },
  {
   "cell_type": "code",
   "execution_count": 8,
   "id": "ac3c715f-8c50-496b-b71f-d29e8e5bbb6d",
   "metadata": {},
   "outputs": [
    {
     "data": {
      "text/plain": [
       "(9540, 20)"
      ]
     },
     "execution_count": 8,
     "metadata": {},
     "output_type": "execute_result"
    }
   ],
   "source": [
    "X.shape"
   ]
  },
  {
   "cell_type": "code",
   "execution_count": 9,
   "id": "baf2ae4d-53d3-4dcc-aa39-60863a5dec0b",
   "metadata": {},
   "outputs": [],
   "source": [
    "# Split the dataset\n",
    "X_train, X_test, y_train, y_test = train_test_split(X, y, random_state=1)"
   ]
  },
  {
   "cell_type": "code",
   "execution_count": 10,
   "id": "ca329cac-5c65-4b1d-9db4-1d9c5bff6653",
   "metadata": {},
   "outputs": [
    {
     "data": {
      "text/plain": [
       "(7155, 20)"
      ]
     },
     "execution_count": 10,
     "metadata": {},
     "output_type": "execute_result"
    }
   ],
   "source": [
    "X_train.shape"
   ]
  },
  {
   "cell_type": "code",
   "execution_count": 11,
   "id": "ff35c548-de68-46f5-a222-8229e13db91a",
   "metadata": {},
   "outputs": [
    {
     "data": {
      "text/plain": [
       "(2385, 20)"
      ]
     },
     "execution_count": 11,
     "metadata": {},
     "output_type": "execute_result"
    }
   ],
   "source": [
    "X_test.shape"
   ]
  },
  {
   "cell_type": "code",
   "execution_count": 12,
   "id": "ee46890a-8ae2-412c-b8bb-d7e8fc89fde2",
   "metadata": {},
   "outputs": [],
   "source": [
    "# Create the StandardScaler instance\n",
    "scaler = StandardScaler()\n",
    "# Fit the Standard Scaler with the training data\n",
    "X_scaler = scaler.fit(X_train)\n",
    "# Scale the training data\n",
    "X_train_scaled = X_scaler.transform(X_train)\n",
    "X_test_scaled = X_scaler.transform(X_test)"
   ]
  },
  {
   "cell_type": "code",
   "execution_count": 13,
   "id": "7f5b801b-a063-4378-b618-53840fb9f8ad",
   "metadata": {},
   "outputs": [],
   "source": [
    "# Instantiate the model with k = 3 neighbors\n",
    "model = KNeighborsClassifier(n_neighbors=3)"
   ]
  },
  {
   "cell_type": "code",
   "execution_count": 14,
   "id": "4ad2a253-1830-4781-9b4c-2acaafa31654",
   "metadata": {},
   "outputs": [
    {
     "data": {
      "text/html": [
       "<style>#sk-container-id-1 {color: black;background-color: white;}#sk-container-id-1 pre{padding: 0;}#sk-container-id-1 div.sk-toggleable {background-color: white;}#sk-container-id-1 label.sk-toggleable__label {cursor: pointer;display: block;width: 100%;margin-bottom: 0;padding: 0.3em;box-sizing: border-box;text-align: center;}#sk-container-id-1 label.sk-toggleable__label-arrow:before {content: \"▸\";float: left;margin-right: 0.25em;color: #696969;}#sk-container-id-1 label.sk-toggleable__label-arrow:hover:before {color: black;}#sk-container-id-1 div.sk-estimator:hover label.sk-toggleable__label-arrow:before {color: black;}#sk-container-id-1 div.sk-toggleable__content {max-height: 0;max-width: 0;overflow: hidden;text-align: left;background-color: #f0f8ff;}#sk-container-id-1 div.sk-toggleable__content pre {margin: 0.2em;color: black;border-radius: 0.25em;background-color: #f0f8ff;}#sk-container-id-1 input.sk-toggleable__control:checked~div.sk-toggleable__content {max-height: 200px;max-width: 100%;overflow: auto;}#sk-container-id-1 input.sk-toggleable__control:checked~label.sk-toggleable__label-arrow:before {content: \"▾\";}#sk-container-id-1 div.sk-estimator input.sk-toggleable__control:checked~label.sk-toggleable__label {background-color: #d4ebff;}#sk-container-id-1 div.sk-label input.sk-toggleable__control:checked~label.sk-toggleable__label {background-color: #d4ebff;}#sk-container-id-1 input.sk-hidden--visually {border: 0;clip: rect(1px 1px 1px 1px);clip: rect(1px, 1px, 1px, 1px);height: 1px;margin: -1px;overflow: hidden;padding: 0;position: absolute;width: 1px;}#sk-container-id-1 div.sk-estimator {font-family: monospace;background-color: #f0f8ff;border: 1px dotted black;border-radius: 0.25em;box-sizing: border-box;margin-bottom: 0.5em;}#sk-container-id-1 div.sk-estimator:hover {background-color: #d4ebff;}#sk-container-id-1 div.sk-parallel-item::after {content: \"\";width: 100%;border-bottom: 1px solid gray;flex-grow: 1;}#sk-container-id-1 div.sk-label:hover label.sk-toggleable__label {background-color: #d4ebff;}#sk-container-id-1 div.sk-serial::before {content: \"\";position: absolute;border-left: 1px solid gray;box-sizing: border-box;top: 0;bottom: 0;left: 50%;z-index: 0;}#sk-container-id-1 div.sk-serial {display: flex;flex-direction: column;align-items: center;background-color: white;padding-right: 0.2em;padding-left: 0.2em;position: relative;}#sk-container-id-1 div.sk-item {position: relative;z-index: 1;}#sk-container-id-1 div.sk-parallel {display: flex;align-items: stretch;justify-content: center;background-color: white;position: relative;}#sk-container-id-1 div.sk-item::before, #sk-container-id-1 div.sk-parallel-item::before {content: \"\";position: absolute;border-left: 1px solid gray;box-sizing: border-box;top: 0;bottom: 0;left: 50%;z-index: -1;}#sk-container-id-1 div.sk-parallel-item {display: flex;flex-direction: column;z-index: 1;position: relative;background-color: white;}#sk-container-id-1 div.sk-parallel-item:first-child::after {align-self: flex-end;width: 50%;}#sk-container-id-1 div.sk-parallel-item:last-child::after {align-self: flex-start;width: 50%;}#sk-container-id-1 div.sk-parallel-item:only-child::after {width: 0;}#sk-container-id-1 div.sk-dashed-wrapped {border: 1px dashed gray;margin: 0 0.4em 0.5em 0.4em;box-sizing: border-box;padding-bottom: 0.4em;background-color: white;}#sk-container-id-1 div.sk-label label {font-family: monospace;font-weight: bold;display: inline-block;line-height: 1.2em;}#sk-container-id-1 div.sk-label-container {text-align: center;}#sk-container-id-1 div.sk-container {/* jupyter's `normalize.less` sets `[hidden] { display: none; }` but bootstrap.min.css set `[hidden] { display: none !important; }` so we also need the `!important` here to be able to override the default hidden behavior on the sphinx rendered scikit-learn.org. See: https://github.com/scikit-learn/scikit-learn/issues/21755 */display: inline-block !important;position: relative;}#sk-container-id-1 div.sk-text-repr-fallback {display: none;}</style><div id=\"sk-container-id-1\" class=\"sk-top-container\"><div class=\"sk-text-repr-fallback\"><pre>KNeighborsClassifier(n_neighbors=3)</pre><b>In a Jupyter environment, please rerun this cell to show the HTML representation or trust the notebook. <br />On GitHub, the HTML representation is unable to render, please try loading this page with nbviewer.org.</b></div><div class=\"sk-container\" hidden><div class=\"sk-item\"><div class=\"sk-estimator sk-toggleable\"><input class=\"sk-toggleable__control sk-hidden--visually\" id=\"sk-estimator-id-1\" type=\"checkbox\" checked><label for=\"sk-estimator-id-1\" class=\"sk-toggleable__label sk-toggleable__label-arrow\">KNeighborsClassifier</label><div class=\"sk-toggleable__content\"><pre>KNeighborsClassifier(n_neighbors=3)</pre></div></div></div></div></div>"
      ],
      "text/plain": [
       "KNeighborsClassifier(n_neighbors=3)"
      ]
     },
     "execution_count": 14,
     "metadata": {},
     "output_type": "execute_result"
    }
   ],
   "source": [
    "# Train the model\n",
    "model.fit(X_train_scaled, y_train)"
   ]
  },
  {
   "cell_type": "code",
   "execution_count": 15,
   "id": "046bf694-4e94-49c3-86c5-2da720f74e91",
   "metadata": {},
   "outputs": [
    {
     "data": {
      "text/plain": [
       "array(['no', 'no', 'yes', ..., 'no', 'no', 'no'], dtype=object)"
      ]
     },
     "execution_count": 15,
     "metadata": {},
     "output_type": "execute_result"
    }
   ],
   "source": [
    "# Create predictions\n",
    "y_pred = model.predict(X_test_scaled)\n",
    "\n",
    "# Review the predictions\n",
    "y_pred"
   ]
  },
  {
   "cell_type": "code",
   "execution_count": 16,
   "id": "beb12e64-d2df-4d0a-817d-e7b7bc8d56da",
   "metadata": {},
   "outputs": [
    {
     "name": "stdout",
     "output_type": "stream",
     "text": [
      "[[1444  278]\n",
      " [ 232  431]]\n"
     ]
    },
    {
     "data": {
      "text/plain": [
       "0.7861635220125787"
      ]
     },
     "execution_count": 16,
     "metadata": {},
     "output_type": "execute_result"
    }
   ],
   "source": [
    "# Print confusion matrix\n",
    "matrix = confusion_matrix(y_pred,y_test)\n",
    "print(matrix)\n",
    "\n",
    "# Calculating the accuracy score\n",
    "accuracy_score(y_test, y_pred)"
   ]
  },
  {
   "cell_type": "code",
   "execution_count": 17,
   "id": "525f55c9-1098-4582-a97a-9a08d366e146",
   "metadata": {},
   "outputs": [
    {
     "name": "stdout",
     "output_type": "stream",
     "text": [
      "Confusion Matrix\n"
     ]
    },
    {
     "data": {
      "text/plain": [
       "array([[1444,  278],\n",
       "       [ 232,  431]], dtype=int64)"
      ]
     },
     "metadata": {},
     "output_type": "display_data"
    },
    {
     "name": "stdout",
     "output_type": "stream",
     "text": [
      "\n",
      "Accuracy Score : 0.7861635220125787\n",
      "\n",
      "Classification Report\n",
      "              precision    recall  f1-score   support\n",
      "\n",
      " not leaving       0.86      0.84      0.85      1722\n",
      "     leaving       0.61      0.65      0.63       663\n",
      "\n",
      "    accuracy                           0.79      2385\n",
      "   macro avg       0.73      0.74      0.74      2385\n",
      "weighted avg       0.79      0.79      0.79      2385\n",
      "\n"
     ]
    }
   ],
   "source": [
    "# Print classification report\n",
    "print(\"Confusion Matrix\")\n",
    "display(matrix)\n",
    "print(\"\")\n",
    "print(f\"Accuracy Score : {accuracy_score(y_test, y_pred)}\")\n",
    "print(\"\")\n",
    "print(\"Classification Report\")\n",
    "print(classification_report(y_pred, y_test, target_names = ['not leaving', 'leaving']))"
   ]
  },
  {
   "cell_type": "code",
   "execution_count": null,
   "id": "2fd92fbd-2389-4f96-965f-3e52425adcca",
   "metadata": {},
   "outputs": [],
   "source": []
  }
 ],
 "metadata": {
  "kernelspec": {
   "display_name": "Python 3 (ipykernel)",
   "language": "python",
   "name": "python3"
  },
  "language_info": {
   "codemirror_mode": {
    "name": "ipython",
    "version": 3
   },
   "file_extension": ".py",
   "mimetype": "text/x-python",
   "name": "python",
   "nbconvert_exporter": "python",
   "pygments_lexer": "ipython3",
   "version": "3.11.7"
  }
 },
 "nbformat": 4,
 "nbformat_minor": 5
}
